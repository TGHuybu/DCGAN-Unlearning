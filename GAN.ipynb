{
 "cells": [
  {
   "cell_type": "code",
   "execution_count": 6,
   "metadata": {},
   "outputs": [],
   "source": [
    "import numpy as np\n",
    "import pandas as pd\n",
    "import scipy as sp"
   ]
  },
  {
   "cell_type": "code",
   "execution_count": 5,
   "metadata": {},
   "outputs": [],
   "source": [
    "data_test = pd.read_csv('data/mnist_test.csv')\n",
    "data_train = pd.read_csv('data/mnist_train.csv')\n",
    "\n"
   ]
  },
  {
   "cell_type": "code",
   "execution_count": null,
   "metadata": {},
   "outputs": [],
   "source": [
    "class Convolutional(layer):\n",
    "    def __init__(self, input_shape, kernel_sz, depth):\n",
    "        input_height, input_width, input_depth = input_shape # h w d\n",
    "        self.depth = depth\n",
    "        self.input_shape = input_shape\n",
    "        self.input_depth = input_depth\n",
    "        self.output_shape = (input_height - kernel_sz + 1, input_width - kernel_sz + 1, depth)\n",
    "        self.kernels_shape = (depth, input_depth, kernel_sz, kernel_sz) # number of kn, depth of each kn, w, h\n",
    "        self.init_kn = np.random.randn(*self.kernels_shape)\n",
    "        self.init_bias = np.random.randn(*self.output_shape)\n",
    "\n",
    "    def foward(self, input):\n",
    "        self.input = input \n",
    "        self.output = np.copy(self.init_bias)\n",
    "\n",
    "        for i in range(self.depth):\n",
    "            for j in range(self.input_depth):\n",
    "                self.output[i] += sp.correlate2d(self.input[j], self.init_kn[i,j], \"valid\") \n",
    "    return self.output\n",
    "\n",
    "    def backward(self, output_gradient, learning_rate):\n",
    "        kernels_gradient = np.zeros(self.kernels_shape)\n",
    "        input_gradient = np.zeros(self.input_shape)\n",
    "        \n",
    "        for i in range(self.depth):\n",
    "            for j in range(self.input_depth):\n",
    "                kernels_shape[i,j] = sp.correlate2d(self.input[j], output_gradient[i], \"valid\")\n",
    "                input_gradient[j] += sp.convolve2d(output_gradient[i], self.kernels[i,j], \"full\")\n",
    "\n",
    "        self.kernels -= learning_rate*kernels_gradinent\n",
    "        self.init_bias -= learning_rate*output_gradient\n",
    "        return input_gradient\n",
    "    \n",
    "\n"
   ]
  }
 ],
 "metadata": {
  "kernelspec": {
   "display_name": "Python 3",
   "language": "python",
   "name": "python3"
  },
  "language_info": {
   "codemirror_mode": {
    "name": "ipython",
    "version": 3
   },
   "file_extension": ".py",
   "mimetype": "text/x-python",
   "name": "python",
   "nbconvert_exporter": "python",
   "pygments_lexer": "ipython3",
   "version": "3.10.5"
  }
 },
 "nbformat": 4,
 "nbformat_minor": 2
}
