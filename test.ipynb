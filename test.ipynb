{
 "cells": [
  {
   "cell_type": "markdown",
   "metadata": {},
   "source": [
    "# **Test Ground for EWC Calculations**"
   ]
  },
  {
   "cell_type": "markdown",
   "metadata": {},
   "source": [
    "## **Import libraries**"
   ]
  },
  {
   "cell_type": "code",
   "execution_count": 1,
   "metadata": {},
   "outputs": [],
   "source": [
    "from copy import deepcopy\n",
    "\n",
    "import torch\n",
    "import torch.nn as nn\n",
    "import torch.autograd as autograd\n",
    "\n",
    "import numpy as np\n",
    "import matplotlib.pyplot as plt\n",
    "\n",
    "from dcgan.components.generator import Generator\n",
    "from dcgan.components.discriminator import Discriminator"
   ]
  },
  {
   "cell_type": "markdown",
   "metadata": {},
   "source": [
    "## **Define class and functions**"
   ]
  },
  {
   "cell_type": "code",
   "execution_count": 7,
   "metadata": {},
   "outputs": [],
   "source": [
    "class EWC:\n",
    "    \"\"\"\n",
    "    Class for performing Elastic Weight Consolidation\n",
    "    Reference link:\n",
    "        https://discuss.pytorch.org/t/implementation-of-elastic-weight-consolidation-fisher-information-matrix/9309/3 \n",
    "    \"\"\"\n",
    "\n",
    "    def __init__(self, model_anchor):\n",
    "        self._model_anchor = model_anchor\n",
    "        self._params_anchor = {n: p for n, p in model_anchor.named_parameters()}\n",
    "        self._fishers, self._mean_fishers = None, None\n",
    "\n",
    "\n",
    "    def _calc_fisher(self, likelihood, nsample=1):\n",
    "        grads = autograd.grad(likelihood, self._model_anchor.parameters())\n",
    "        _fishers = [(g**2)/nsample for g in grads]\n",
    "\n",
    "        param_names = [name for name, _ in self._model_anchor.named_parameters()]\n",
    "        fs_dict = {n: f for n, f in zip(param_names, _fishers)}\n",
    "\n",
    "        return fs_dict\n",
    "    \n",
    "\n",
    "    def set_fisher(self, likelihood, nsample=1):\n",
    "        self._fishers = self._calc_fisher(likelihood, nsample=nsample)\n",
    "\n",
    "\n",
    "    def get_fisher(self): return self._fishers\n",
    "\n",
    "    \n",
    "    def calc_ewc(self, model, weight=5e8):\n",
    "        params = {n: p for n, p in model.named_parameters()}\n",
    "\n",
    "        ewc = 0\n",
    "        for name in self._fishers:\n",
    "            _ewc = self._fishers[name]*(params[name] - self._params_anchor[name])**2\n",
    "            ewc += _ewc.sum()\n",
    "\n",
    "        return weight*ewc\n",
    "\n",
    "\n",
    "# def fisher(model, likelihood, nsample=1):\n",
    "#     \"\"\"\n",
    "#     Funny ref link:\n",
    "#     https://discuss.pytorch.org/t/implementation-of-elastic-weight-consolidation-fisher-information-matrix/9309/3 \n",
    "#     \"\"\"\n",
    "\n",
    "#     grads = autograd.grad(likelihood, model.parameters())\n",
    "#     fs = []\n",
    "#     for g in grads:\n",
    "#         fs.append((g**2).sum()/nsample) \n",
    "\n",
    "#     param_names = [name for name, _ in model.named_parameters()]\n",
    "#     fs_dict = {n: f.item() for n, f in zip(param_names, fs)}\n",
    "\n",
    "#     return fs_dict\n",
    "\n",
    "\n",
    "def loss_adapt(l_adv, ewc, model, weight=5e8):\n",
    "    l_ewc = ewc.calc_ewc(model, weight=weight)\n",
    "    return l_adv + l_ewc"
   ]
  },
  {
   "cell_type": "markdown",
   "metadata": {},
   "source": [
    "## **Model configuration**"
   ]
  },
  {
   "cell_type": "code",
   "execution_count": 3,
   "metadata": {},
   "outputs": [
    {
     "data": {
      "text/plain": [
       "<All keys matched successfully>"
      ]
     },
     "execution_count": 3,
     "metadata": {},
     "output_type": "execute_result"
    }
   ],
   "source": [
    "gen_model = Generator()\n",
    "gen_model.load_state_dict(torch.load('models/epoch145_gen.pth'))\n",
    "\n",
    "dis_model = Discriminator()\n",
    "dis_model.load_state_dict(torch.load('models/epoch145_dis.pth'))"
   ]
  },
  {
   "cell_type": "markdown",
   "metadata": {},
   "source": [
    "## **Set hyperparameters**"
   ]
  },
  {
   "cell_type": "code",
   "execution_count": 4,
   "metadata": {},
   "outputs": [],
   "source": [
    "batch_size = 256\n",
    "latent_size = 512\n",
    "regWeight = 10\n",
    "criterion = nn.BCELoss()"
   ]
  },
  {
   "cell_type": "markdown",
   "metadata": {},
   "source": [
    "## **Usage demo**"
   ]
  },
  {
   "cell_type": "code",
   "execution_count": 8,
   "metadata": {},
   "outputs": [
    {
     "name": "stdout",
     "output_type": "stream",
     "text": [
      "tensor(5.5293, grad_fn=<BinaryCrossEntropyBackward0>)\n"
     ]
    },
    {
     "data": {
      "image/png": "[encoded data removed]",
      "text/plain": [
       "<Figure size 640x480 with 1 Axes>"
      ]
     },
     "metadata": {},
     "output_type": "display_data"
    }
   ],
   "source": [
    "ewc = EWC(gen_model)\n",
    "\n",
    "# Generate sample input and output\n",
    "noise = torch.randn(batch_size, latent_size)\n",
    "output_d = dis_model(gen_model(noise)).view(-1)\n",
    "real_label = torch.full((batch_size, ), 1, dtype=torch.float)\n",
    "\n",
    "# Error between Discriminator output and actual label\n",
    "likelihood = criterion(output_d, real_label)\n",
    "print(likelihood)\n",
    "\n",
    "# Compute Fisher information for each parameter\n",
    "ewc.set_fisher(likelihood, nsample=batch_size)\n",
    "fishers = ewc.get_fisher()\n",
    "\n",
    "fisher_vals = [fishers[n].sum() for n in fishers]\n",
    "plt.bar(np.arange(len(fisher_vals)) + 1, fisher_vals)\n",
    "plt.show()"
   ]
  },
  {
   "cell_type": "code",
   "execution_count": 9,
   "metadata": {},
   "outputs": [
    {
     "name": "stdout",
     "output_type": "stream",
     "text": [
      ">>> l_adv tensor(5.5293, grad_fn=<BinaryCrossEntropyBackward0>)\n",
      ">>> l_adapt tensor(5.5293, grad_fn=<AddBackward0>)\n"
     ]
    }
   ],
   "source": [
    "# Example value for adversarial loss\n",
    "# NOTE: Will need to change formula in actual training\n",
    "l_adv = criterion(output_d, real_label)\n",
    "\n",
    "generator_new = deepcopy(gen_model)\n",
    "l_adapt = loss_adapt(l_adv, ewc, generator_new)\n",
    "\n",
    "print(\">>> l_adv\", l_adv)\n",
    "print(\">>> l_adapt\", l_adapt)"
   ]
  }
 ],
 "metadata": {
  "kernelspec": {
   "display_name": "base",
   "language": "python",
   "name": "python3"
  },
  "language_info": {
   "codemirror_mode": {
    "name": "ipython",
    "version": 3
   },
   "file_extension": ".py",
   "mimetype": "text/x-python",
   "name": "python",
   "nbconvert_exporter": "python",
   "pygments_lexer": "ipython3",
   "version": "3.12.4"
  }
 },
 "nbformat": 4,
 "nbformat_minor": 2
}
