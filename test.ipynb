{
 "cells": [
  {
   "cell_type": "code",
   "execution_count": 1,
   "metadata": {},
   "outputs": [],
   "source": [
    "import torch\n",
    "import torch.nn as nn\n",
    "import torch.optim as optim\n",
    "import torch.autograd as autograd\n",
    "\n",
    "import numpy as np\n",
    "\n",
    "from dcgan.components.generator import Generator\n",
    "from dcgan.components.discriminator import Discriminator"
   ]
  },
  {
   "cell_type": "code",
   "execution_count": 2,
   "metadata": {},
   "outputs": [],
   "source": [
    "def fisher(likelihood, params):\n",
    "    # real_label=torch.full((batch_size, ), 1, dtype=torch.float)\n",
    "    # l_adv = criterion(output, real_label)\n",
    "    \n",
    "    grad1 = autograd.grad(likelihood, params, create_graph=True)\n",
    "    fisher = []\n",
    "\n",
    "    for i, g in enumerate(grad1):\n",
    "        print(i)\n",
    "        # maybe fisher is first deriv?\n",
    "        # grad2 = torch.autograd.grad(g, gen, grad_outputs=torch.ones_like(g), retain_graph= True)\n",
    "        fisher.append((g**2).sum()) \n",
    "\n",
    "    return fisher\n",
    "\n",
    "# def loss_adapt(output, gen_param, label):\n",
    "#     return nn.BCELoss(output, label) + regWeight*Fisher(output, gen_param)"
   ]
  },
  {
   "cell_type": "code",
   "execution_count": 3,
   "metadata": {},
   "outputs": [
    {
     "data": {
      "text/plain": [
       "<All keys matched successfully>"
      ]
     },
     "execution_count": 3,
     "metadata": {},
     "output_type": "execute_result"
    }
   ],
   "source": [
    "generator = Generator()\n",
    "discriminator = Discriminator()\n",
    "\n",
    "generator.load_state_dict(torch.load('models/epoch145_gen.pth'))\n",
    "discriminator.load_state_dict(torch.load('models/epoch145_dis.pth'))"
   ]
  },
  {
   "cell_type": "code",
   "execution_count": 4,
   "metadata": {},
   "outputs": [
    {
     "name": "stdout",
     "output_type": "stream",
     "text": [
      "0\n",
      "1\n",
      "2\n",
      "3\n",
      "4\n",
      "5\n",
      "6\n",
      "7\n",
      "8\n",
      "9\n",
      "10\n",
      "11\n",
      "12\n",
      "13\n",
      "14\n",
      "15\n",
      "16\n",
      "17\n",
      "18\n",
      "19\n"
     ]
    }
   ],
   "source": [
    "batch_size = 256\n",
    "latent_size = 512\n",
    "regWeight = 10\n",
    "criterion = nn.BCELoss()\n",
    "\n",
    "noise = torch.randn(batch_size, latent_size)\n",
    "output = discriminator(generator(noise)).view(-1)\n",
    "real_label=torch.full((batch_size, ), 1, dtype=torch.float)\n",
    "l_adv = criterion(output, real_label)\n",
    "\n",
    "fisher = fisher(l_adv, generator.parameters())\n",
    "\n",
    "# loss_adapt(discriminator(generator(noise)).view(-1), generator.parameters(), 1)"
   ]
  },
  {
   "cell_type": "code",
   "execution_count": 7,
   "metadata": {},
   "outputs": [],
   "source": [
    "import matplotlib.pyplot as plt\n",
    "\n",
    "fisher_vals = [t.item() for t in fisher]\n",
    "\n",
    "plt.bar(np.arange(len(fisher_vals)), fisher_vals)\n",
    "plt.show()"
   ]
  }
 ],
 "metadata": {
  "kernelspec": {
   "display_name": "base",
   "language": "python",
   "name": "python3"
  },
  "language_info": {
   "codemirror_mode": {
    "name": "ipython",
    "version": 3
   },
   "file_extension": ".py",
   "mimetype": "text/x-python",
   "name": "python",
   "nbconvert_exporter": "python",
   "pygments_lexer": "ipython3",
   "version": "3.12.4"
  }
 },
 "nbformat": 4,
 "nbformat_minor": 2
}
