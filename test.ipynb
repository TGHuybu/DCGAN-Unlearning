{
 "cells": [
  {
   "cell_type": "markdown",
   "metadata": {},
   "source": [
    "# **Test Ground for EWC Calculations**"
   ]
  },
  {
   "cell_type": "markdown",
   "metadata": {},
   "source": [
    "## **Import libraries**"
   ]
  },
  {
   "cell_type": "code",
   "execution_count": 1,
   "metadata": {},
   "outputs": [],
   "source": [
    "from copy import deepcopy\n",
    "import os\n",
    "\n",
    "import torch\n",
    "import torch.nn as nn\n",
    "import torch.autograd as autograd\n",
    "\n",
    "import torchvision.transforms as transforms\n",
    "from torchvision.datasets import ImageFolder\n",
    "from torch.utils.data import DataLoader\n",
    "import torch.optim as optim\n",
    "\n",
    "from tqdm import tqdm\n",
    "\n",
    "import numpy as np\n",
    "import matplotlib.pyplot as plt\n",
    "\n",
    "from dcgan.components.generator import Generator\n",
    "from dcgan.components.discriminator import Discriminator\n",
    "\n",
    "# For working with Notebooks\n",
    "from IPython.display import clear_output"
   ]
  },
  {
   "cell_type": "code",
   "execution_count": 2,
   "metadata": {},
   "outputs": [
    {
     "data": {
      "text/plain": [
       "device(type='cuda')"
      ]
     },
     "execution_count": 2,
     "metadata": {},
     "output_type": "execute_result"
    }
   ],
   "source": [
    "device = torch.device(\"cuda\" if torch.cuda.is_available() else \"cpu\")\n",
    "device"
   ]
  },
  {
   "cell_type": "markdown",
   "metadata": {},
   "source": [
    "## **Define EWC-related class and functions**"
   ]
  },
  {
   "cell_type": "code",
   "execution_count": 44,
   "metadata": {},
   "outputs": [],
   "source": [
    "class EWC:\n",
    "    \"\"\"\n",
    "    Class for performing Elastic Weight Consolidation\n",
    "    Reference link:\n",
    "        https://discuss.pytorch.org/t/implementation-of-elastic-weight-consolidation-fisher-information-matrix/9309/3 \n",
    "    \"\"\"\n",
    "\n",
    "    def __init__(self, model_anchor):\n",
    "        self._model_anchor = model_anchor\n",
    "        self._params_anchor = {n: p for n, p in model_anchor.named_parameters()}\n",
    "        self._fishers, self._mean_fishers = None, None\n",
    "\n",
    "\n",
    "    def _calc_fisher(self, likelihood, nsample=1):\n",
    "        # TODO: Process unused params case\n",
    "        grads = autograd.grad(likelihood, self._model_anchor.parameters())\n",
    "        _fishers = [(g**2)/nsample for g in grads]\n",
    "\n",
    "        param_names = [name for name, _ in self._model_anchor.named_parameters()]\n",
    "        fs_dict = {n: f for n, f in zip(param_names, _fishers)}\n",
    "\n",
    "        return fs_dict\n",
    "    \n",
    "\n",
    "    def set_fisher(self, likelihood, nsample=1):\n",
    "        self._fishers = self._calc_fisher(likelihood, nsample=nsample)\n",
    "\n",
    "\n",
    "    def get_fisher(self): return self._fishers\n",
    "\n",
    "    \n",
    "    def calc_ewc(self, model, weight=5e8):\n",
    "        params = {n: p for n, p in model.named_parameters()}\n",
    "\n",
    "        ewc = 0\n",
    "        for name in self._fishers:\n",
    "            _ewc = self._fishers[name]*(params[name] - self._params_anchor[name])**2\n",
    "            ewc += _ewc.sum()\n",
    "\n",
    "        return weight*ewc\n",
    "\n",
    "\n",
    "def loss_adapt(l_adv, ewc, model, weight=5e8):\n",
    "    l_ewc = ewc.calc_ewc(model, weight=weight)\n",
    "    return l_adv + l_ewc"
   ]
  },
  {
   "cell_type": "markdown",
   "metadata": {},
   "source": [
    "## **Model configuration**"
   ]
  },
  {
   "cell_type": "code",
   "execution_count": 4,
   "metadata": {},
   "outputs": [
    {
     "data": {
      "text/plain": [
       "Discriminator(\n",
       "  (main): Sequential(\n",
       "    (0): Conv2d(3, 32, kernel_size=(4, 4), stride=(2, 2), padding=(1, 1), bias=False)\n",
       "    (1): BatchNorm2d(32, eps=1e-05, momentum=0.1, affine=True, track_running_stats=True)\n",
       "    (2): LeakyReLU(negative_slope=0.01)\n",
       "    (3): Conv2d(32, 64, kernel_size=(4, 4), stride=(2, 2), padding=(1, 1), bias=False)\n",
       "    (4): BatchNorm2d(64, eps=1e-05, momentum=0.1, affine=True, track_running_stats=True)\n",
       "    (5): LeakyReLU(negative_slope=0.01)\n",
       "    (6): Conv2d(64, 128, kernel_size=(4, 4), stride=(2, 2), padding=(1, 1), bias=False)\n",
       "    (7): BatchNorm2d(128, eps=1e-05, momentum=0.1, affine=True, track_running_stats=True)\n",
       "    (8): LeakyReLU(negative_slope=0.01)\n",
       "    (9): Conv2d(128, 256, kernel_size=(4, 4), stride=(2, 2), padding=(1, 1), bias=False)\n",
       "    (10): BatchNorm2d(256, eps=1e-05, momentum=0.1, affine=True, track_running_stats=True)\n",
       "    (11): LeakyReLU(negative_slope=0.01)\n",
       "    (12): Conv2d(256, 512, kernel_size=(4, 4), stride=(2, 2), padding=(1, 1), bias=False)\n",
       "    (13): BatchNorm2d(512, eps=1e-05, momentum=0.1, affine=True, track_running_stats=True)\n",
       "    (14): LeakyReLU(negative_slope=0.01)\n",
       "    (15): Conv2d(512, 768, kernel_size=(4, 4), stride=(2, 2), padding=(1, 1), bias=False)\n",
       "    (16): BatchNorm2d(768, eps=1e-05, momentum=0.1, affine=True, track_running_stats=True)\n",
       "    (17): LeakyReLU(negative_slope=0.01)\n",
       "    (18): Flatten(start_dim=1, end_dim=-1)\n",
       "    (19): Linear(in_features=3072, out_features=1, bias=True)\n",
       "    (20): Sigmoid()\n",
       "  )\n",
       ")"
      ]
     },
     "execution_count": 4,
     "metadata": {},
     "output_type": "execute_result"
    }
   ],
   "source": [
    "gen_model = Generator()\n",
    "gen_model.load_state_dict(torch.load('models/epoch145_gen.pth'))\n",
    "gen_model.to(device)\n",
    "\n",
    "dis_model = Discriminator()\n",
    "dis_model.load_state_dict(torch.load('models/epoch145_dis.pth'))\n",
    "dis_model.to(device)"
   ]
  },
  {
   "cell_type": "markdown",
   "metadata": {},
   "source": [
    "## **Set hyperparameters**"
   ]
  },
  {
   "cell_type": "code",
   "execution_count": 5,
   "metadata": {},
   "outputs": [],
   "source": [
    "batch_size = 12\n",
    "latent_size = 512\n",
    "criterion = nn.BCELoss()"
   ]
  },
  {
   "cell_type": "markdown",
   "metadata": {},
   "source": [
    "## **Adaptation test**"
   ]
  },
  {
   "cell_type": "markdown",
   "metadata": {},
   "source": [
    "### **Additional functions**"
   ]
  },
  {
   "cell_type": "code",
   "execution_count": 27,
   "metadata": {},
   "outputs": [],
   "source": [
    "def make_image(file_name, generator, folderpath=\"plts\", examples=25, dim=(5,5), figsize=(10,10)):\n",
    "    noise= torch.randn(examples, latent_size).to(device)\n",
    "    with torch.no_grad():\n",
    "        generated_images = generator(noise).detach().cpu()\n",
    "    plt.figure(figsize=figsize)\n",
    "    plt.subplots_adjust(left=0.1, right=0.9, top=0.9, bottom=0.1)\n",
    "\n",
    "\n",
    "    for i in range(generated_images.shape[0]):\n",
    "        # Ghép các kênh màu lại thành một ảnh RGB\n",
    "        plt.subplot(5, 5, i + 1)\n",
    "        image = generated_images[i].permute(1,2,0)\n",
    "        plt.imshow(image,interpolation='nearest',cmap='gray_r')\n",
    "        plt.axis('off')\n",
    "\n",
    "    plt.tight_layout()\n",
    "    plt.savefig(os.path.join(folderpath, file_name))\n",
    "    plt.close('all')\n",
    "    "
   ]
  },
  {
   "cell_type": "code",
   "execution_count": 28,
   "metadata": {},
   "outputs": [],
   "source": [
    "make_image(\"anime_gan_generated_image_145_preadapt.png\", gen_model)"
   ]
  },
  {
   "cell_type": "markdown",
   "metadata": {},
   "source": [
    "### **Prepare dataloader**"
   ]
  },
  {
   "cell_type": "code",
   "execution_count": 10,
   "metadata": {},
   "outputs": [
    {
     "name": "stdout",
     "output_type": "stream",
     "text": [
      "28\n"
     ]
    }
   ],
   "source": [
    "transform = transforms.Compose([\n",
    "    transforms.Resize((128, 128)),  \n",
    "    transforms.ToTensor(),          \n",
    "    #transforms.Normalize(mean=0.5, std=0.5)  \n",
    "])\n",
    "\n",
    "imgpath = \"data/adapt_celebA\"\n",
    "dataset = ImageFolder(root=imgpath, transform=transform)\n",
    "\n",
    "dataloader = DataLoader(dataset, batch_size=batch_size, shuffle=True, num_workers=1, drop_last= True)\n",
    "\n",
    "print(len(dataloader))"
   ]
  },
  {
   "cell_type": "markdown",
   "metadata": {},
   "source": [
    "### **Load to-be-adapted Generator**"
   ]
  },
  {
   "cell_type": "code",
   "execution_count": 11,
   "metadata": {},
   "outputs": [],
   "source": [
    "adapt_generator = Generator()\n",
    "adapt_generator.load_state_dict(torch.load('models/epoch145_gen.pth'))\n",
    "adapt_generator.to(device)\n",
    "\n",
    "optimizer_g = optim.Adam(adapt_generator.parameters(), lr=0.0006, betas=(0.5, 0.999))"
   ]
  },
  {
   "cell_type": "markdown",
   "metadata": {},
   "source": [
    "### **Compute Fisher information (DO ONLY ONCE BEFORE ADAPTATION)**"
   ]
  },
  {
   "cell_type": "code",
   "execution_count": 42,
   "metadata": {},
   "outputs": [
    {
     "name": "stdout",
     "output_type": "stream",
     "text": [
      "tensor(5.2464, device='cuda:0', grad_fn=<BinaryCrossEntropyBackward0>)\n"
     ]
    },
    {
     "data": {
      "image/png": "[encoded data removed]",
      "text/plain": [
       "<Figure size 640x480 with 1 Axes>"
      ]
     },
     "metadata": {},
     "output_type": "display_data"
    },
    {
     "name": "stdout",
     "output_type": "stream",
     "text": [
      ">>> l_adv tensor(5.2464, device='cuda:0', grad_fn=<BinaryCrossEntropyBackward0>)\n",
      ">>> l_adapt tensor(5.2464, device='cuda:0', grad_fn=<AddBackward0>)\n"
     ]
    }
   ],
   "source": [
    "ewc = EWC(gen_model)\n",
    "\n",
    "# Generate sample input and output\n",
    "noise = torch.randn(300, latent_size).to(device)\n",
    "output_d = dis_model(gen_model(noise)).view(-1)\n",
    "real_label = torch.full((300, ), 0.99, dtype=torch.float).to(device)\n",
    "\n",
    "# Error between Discriminator output and actual label\n",
    "likelihood = criterion(output_d, real_label)\n",
    "print(likelihood)\n",
    "\n",
    "# Compute Fisher information for each parameter\n",
    "ewc.set_fisher(likelihood, nsample=300)\n",
    "fishers = ewc.get_fisher()\n",
    "\n",
    "# Plot mean Fisher information\n",
    "fisher_vals = [fishers[n].mean().detach().cpu() for n in fishers]\n",
    "plt.bar(np.arange(len(fisher_vals)) + 1, fisher_vals)\n",
    "plt.xticks(np.arange(len(fisher_vals)) + 1)\n",
    "plt.xlabel(\"Parameter\")\n",
    "plt.ylabel(\"Mean Fisher information\")\n",
    "plt.show()\n",
    "\n",
    "# Example value for adversarial loss\n",
    "# NOTE: Will need to change formula in actual training\n",
    "l_adv = criterion(output_d, real_label)\n",
    "\n",
    "generator_new = deepcopy(gen_model)\n",
    "l_adapt = loss_adapt(l_adv, ewc, generator_new)\n",
    "\n",
    "print(\">>> l_adv\", l_adv)\n",
    "print(\">>> l_adapt\", l_adapt)"
   ]
  },
  {
   "cell_type": "markdown",
   "metadata": {},
   "source": [
    "### **Adapt loop**"
   ]
  },
  {
   "cell_type": "code",
   "execution_count": 26,
   "metadata": {},
   "outputs": [],
   "source": [
    "g_history = []\n",
    "\n",
    "real_lb = 0.99\n",
    "fake_lb = 0"
   ]
  },
  {
   "cell_type": "code",
   "execution_count": 31,
   "metadata": {},
   "outputs": [
    {
     "name": "stdout",
     "output_type": "stream",
     "text": [
      "Loss_G: 0.0586\n"
     ]
    }
   ],
   "source": [
    "num_epochs = 20\n",
    "regWeight = 10\n",
    "\n",
    "for epoch in range(num_epochs):\n",
    "    # Visualize the loss \n",
    "    print('Epoch : ',f'[{epoch}/{num_epochs}] ')\n",
    "    plt.figure(figsize=(10,5))\n",
    "    plt.plot(range(1, len(g_history) + 1), g_history, 'b', label='Generator Loss')\n",
    "    plt.title('Generator and Discriminator Loss During Adaptation')\n",
    "    plt.xlabel('Epochs')\n",
    "    plt.ylabel('Loss')\n",
    "    plt.legend()\n",
    "    plt.show()\n",
    "\n",
    "    avg_loss_d = 0 \n",
    "    avg_loss_g = 0\n",
    "    for i, data in enumerate(tqdm(dataloader)):\n",
    "        \n",
    "        real_data = data[0].to(device)\n",
    "        label = torch.full((batch_size, ), real_lb, dtype=torch.float).to(device)\n",
    "\n",
    "        #-- Train Generator\n",
    "\n",
    "        # Reset gradients\n",
    "        adapt_generator.zero_grad()\n",
    "\n",
    "        # Generate fake data + classification of Discriminator\n",
    "        noise = torch.randn(batch_size, latent_size).to(device)\n",
    "        fake_data = adapt_generator(noise)\n",
    "        output = dis_model(fake_data).view(-1)\n",
    "\n",
    "        label.fill_(real_lb)\n",
    "\n",
    "        # TODO: Change loss function?\n",
    "        loss_G_adv = criterion(output, label)\n",
    "        \n",
    "        # Compute L_adapt = L_adv + EWC\n",
    "        loss_G = loss_adapt(loss_G_adv, ewc, adapt_generator, weight=regWeight)\n",
    "\n",
    "        avg_loss_g += loss_G\n",
    "\n",
    "        # Optimize step\n",
    "        loss_G.backward()\n",
    "        optimizer_g.step()\n",
    "\n",
    "    avg_loss_g /= len(dataloader)\n",
    "    g_history.append(avg_loss_g.detach().cpu().numpy())\n",
    "\n",
    "    if epoch != num_epochs:\n",
    "        clear_output()\n",
    "\n",
    "    print(f'Loss_G: {avg_loss_g.item():.4f}')\n",
    "    \n",
    "    # Checkpoint\n",
    "    if (epoch % 5 == 0):\n",
    "        plt_save_path = f\"gan_train_{epoch}.png\"\n",
    "        make_image(plt_save_path, adapt_generator)\n",
    "        torch.save(adapt_generator.state_dict(), 'models/generator_adapt_epoch%d.pth' %epoch)\n",
    "        "
   ]
  },
  {
   "cell_type": "code",
   "execution_count": 45,
   "metadata": {},
   "outputs": [
    {
     "name": "stdout",
     "output_type": "stream",
     "text": [
      "tensor(6.0524, device='cuda:0', grad_fn=<BinaryCrossEntropyBackward0>)\n"
     ]
    },
    {
     "data": {
      "image/png": "[encoded data removed]",
      "text/plain": [
       "<Figure size 640x480 with 1 Axes>"
      ]
     },
     "metadata": {},
     "output_type": "display_data"
    },
    {
     "ename": "RuntimeError",
     "evalue": "The size of tensor a (0) must match the size of tensor b (512) at non-singleton dimension 1",
     "output_type": "error",
     "traceback": [
      "\u001b[1;31m---------------------------------------------------------------------------\u001b[0m",
      "\u001b[1;31mRuntimeError\u001b[0m                              Traceback (most recent call last)",
      "Cell \u001b[1;32mIn[45], line 25\u001b[0m\n\u001b[0;32m     22\u001b[0m l_adv \u001b[38;5;241m=\u001b[39m criterion(output_d, real_label)\n\u001b[0;32m     24\u001b[0m generator_new \u001b[38;5;241m=\u001b[39m deepcopy(gen_model)\n\u001b[1;32m---> 25\u001b[0m l_adapt \u001b[38;5;241m=\u001b[39m loss_adapt(l_adv, ewc2, generator_new)\n\u001b[0;32m     27\u001b[0m \u001b[38;5;28mprint\u001b[39m(\u001b[38;5;124m\"\u001b[39m\u001b[38;5;124m>>> l_adv\u001b[39m\u001b[38;5;124m\"\u001b[39m, l_adv)\n\u001b[0;32m     28\u001b[0m \u001b[38;5;28mprint\u001b[39m(\u001b[38;5;124m\"\u001b[39m\u001b[38;5;124m>>> l_adapt\u001b[39m\u001b[38;5;124m\"\u001b[39m, l_adapt)\n",
      "Cell \u001b[1;32mIn[44], line 46\u001b[0m, in \u001b[0;36mloss_adapt\u001b[1;34m(l_adv, ewc, model, weight)\u001b[0m\n\u001b[0;32m     45\u001b[0m \u001b[38;5;28;01mdef\u001b[39;00m \u001b[38;5;21mloss_adapt\u001b[39m(l_adv, ewc, model, weight\u001b[38;5;241m=\u001b[39m\u001b[38;5;241m5e8\u001b[39m):\n\u001b[1;32m---> 46\u001b[0m     l_ewc \u001b[38;5;241m=\u001b[39m ewc\u001b[38;5;241m.\u001b[39mcalc_ewc(model, weight\u001b[38;5;241m=\u001b[39mweight)\n\u001b[0;32m     47\u001b[0m     \u001b[38;5;28;01mreturn\u001b[39;00m l_adv \u001b[38;5;241m+\u001b[39m l_ewc\n",
      "Cell \u001b[1;32mIn[44], line 39\u001b[0m, in \u001b[0;36mEWC.calc_ewc\u001b[1;34m(self, model, weight)\u001b[0m\n\u001b[0;32m     37\u001b[0m ewc \u001b[38;5;241m=\u001b[39m \u001b[38;5;241m0\u001b[39m\n\u001b[0;32m     38\u001b[0m \u001b[38;5;28;01mfor\u001b[39;00m name \u001b[38;5;129;01min\u001b[39;00m \u001b[38;5;28mself\u001b[39m\u001b[38;5;241m.\u001b[39m_fishers:\n\u001b[1;32m---> 39\u001b[0m     _ewc \u001b[38;5;241m=\u001b[39m \u001b[38;5;28mself\u001b[39m\u001b[38;5;241m.\u001b[39m_fishers[name]\u001b[38;5;241m*\u001b[39m(params[name] \u001b[38;5;241m-\u001b[39m \u001b[38;5;28mself\u001b[39m\u001b[38;5;241m.\u001b[39m_params_anchor[name])\u001b[38;5;241m*\u001b[39m\u001b[38;5;241m*\u001b[39m\u001b[38;5;241m2\u001b[39m\n\u001b[0;32m     40\u001b[0m     ewc \u001b[38;5;241m+\u001b[39m\u001b[38;5;241m=\u001b[39m _ewc\u001b[38;5;241m.\u001b[39msum()\n\u001b[0;32m     42\u001b[0m \u001b[38;5;28;01mreturn\u001b[39;00m weight\u001b[38;5;241m*\u001b[39mewc\n",
      "\u001b[1;31mRuntimeError\u001b[0m: The size of tensor a (0) must match the size of tensor b (512) at non-singleton dimension 1"
     ]
    }
   ],
   "source": [
    "ewc2 = EWC(adapt_generator)\n",
    "\n",
    "# Generate sample input and output\n",
    "noise = torch.randn(300, latent_size).to(device)\n",
    "output_d = dis_model(gen_model(noise)).view(-1)\n",
    "real_label = torch.full((300, ), 0.99, dtype=torch.float).to(device)\n",
    "\n",
    "# Error between Discriminator output and actual label\n",
    "likelihood = criterion(output_d, real_label)\n",
    "print(likelihood)\n",
    "\n",
    "# Compute Fisher information for each parameter\n",
    "ewc2.set_fisher(likelihood, nsample=300)\n",
    "fishers = ewc2.get_fisher()\n",
    "\n",
    "fisher_vals = [fishers[n].mean().detach().cpu() for n in fishers]\n",
    "plt.bar(np.arange(len(fisher_vals)) + 1, fisher_vals)\n",
    "plt.show()\n",
    "\n",
    "# Example value for adversarial loss\n",
    "# NOTE: Will need to change formula in actual training\n",
    "l_adv = criterion(output_d, real_label)\n",
    "\n",
    "generator_new = deepcopy(gen_model)\n",
    "l_adapt = loss_adapt(l_adv, ewc2, generator_new)\n",
    "\n",
    "print(\">>> l_adv\", l_adv)\n",
    "print(\">>> l_adapt\", l_adapt)"
   ]
  },
  {
   "cell_type": "code",
   "execution_count": 35,
   "metadata": {},
   "outputs": [],
   "source": [
    "make_image(\"adapted_gan_generated.png\", adapt_generator)"
   ]
  }
 ],
 "metadata": {
  "kernelspec": {
   "display_name": "base",
   "language": "python",
   "name": "python3"
  },
  "language_info": {
   "codemirror_mode": {
    "name": "ipython",
    "version": 3
   },
   "file_extension": ".py",
   "mimetype": "text/x-python",
   "name": "python",
   "nbconvert_exporter": "python",
   "pygments_lexer": "ipython3",
   "version": "3.12.4"
  }
 },
 "nbformat": 4,
 "nbformat_minor": 2
}
