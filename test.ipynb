{
 "cells": [
  {
   "cell_type": "code",
   "execution_count": 16,
   "metadata": {},
   "outputs": [],
   "source": [
    "from copy import deepcopy\n",
    "\n",
    "import torch\n",
    "import torch.nn as nn\n",
    "import torch.optim as optim\n",
    "import torch.autograd as autograd\n",
    "\n",
    "import numpy as np\n",
    "\n",
    "from dcgan.components.generator import Generator\n",
    "from dcgan.components.discriminator import Discriminator"
   ]
  },
  {
   "cell_type": "code",
   "execution_count": 49,
   "metadata": {},
   "outputs": [],
   "source": [
    "class EWC:\n",
    "    def __init__(self):\n",
    "        pass\n",
    "\n",
    "\n",
    "def fisher(model, likelihood, nsample=1):\n",
    "    \"\"\"\n",
    "    Funny ref link:\n",
    "    https://discuss.pytorch.org/t/implementation-of-elastic-weight-consolidation-fisher-information-matrix/9309/3 \n",
    "    \"\"\"\n",
    "\n",
    "    grads = autograd.grad(likelihood, model.parameters())\n",
    "    fs = []\n",
    "    for g in grads:\n",
    "        fs.append((g**2).sum()/nsample) \n",
    "\n",
    "    param_names = [name for name, _ in model.named_parameters()]\n",
    "    fs_dict = {n: f.item() for n, f in zip(param_names, fs)}\n",
    "\n",
    "    return fs, fs_dict\n",
    "\n",
    "\n",
    "def calc_ewc(model, model_0, fishers, weight):\n",
    "    ewc = 0\n",
    "\n",
    "    old_params = {n: p for n, p in model_0.named_parameters()}\n",
    "    params = {n: p for n, p in model.named_parameters()}\n",
    "\n",
    "    for i, name in enumerate(fishers):\n",
    "        _ewc = fishers[name]*(params[name] - old_params[name])**2\n",
    "        ewc += _ewc.sum()\n",
    "\n",
    "    return weight*ewc\n",
    "\n",
    "\n",
    "def loss_adapt(l_adv, current_model, old_model, fishers, fweight):\n",
    "    print(\">>> l_adv\", l_adv)\n",
    "    ewc = calc_ewc(current_model, old_model, fishers, fweight)\n",
    "    return l_adv + ewc"
   ]
  },
  {
   "cell_type": "code",
   "execution_count": 23,
   "metadata": {},
   "outputs": [
    {
     "data": {
      "text/plain": [
       "<All keys matched successfully>"
      ]
     },
     "execution_count": 23,
     "metadata": {},
     "output_type": "execute_result"
    }
   ],
   "source": [
    "gen_model = Generator()\n",
    "dis_model = Discriminator()\n",
    "\n",
    "gen_model.load_state_dict(torch.load('models/epoch145_gen.pth'))\n",
    "dis_model.load_state_dict(torch.load('models/epoch145_dis.pth'))"
   ]
  },
  {
   "cell_type": "code",
   "execution_count": 28,
   "metadata": {},
   "outputs": [
    {
     "name": "stdout",
     "output_type": "stream",
     "text": [
      "{'main.0.weight': 0.019720986485481262, 'main.3.weight': 0.0007198548992164433, 'main.4.weight': 0.00549681019037962, 'main.4.bias': 0.010634327307343483, 'main.6.weight': 0.02362094819545746, 'main.7.weight': 0.018067026510834694, 'main.7.bias': 0.010311858728528023, 'main.9.weight': 0.13327598571777344, 'main.10.weight': 0.018103817477822304, 'main.10.bias': 0.0183103084564209, 'main.12.weight': 0.17292261123657227, 'main.13.weight': 0.057869523763656616, 'main.13.bias': 0.021720577031373978, 'main.15.weight': 0.11394371092319489, 'main.16.weight': 0.06892213970422745, 'main.16.bias': 0.03930448368191719, 'main.18.weight': 1.8881585597991943, 'main.19.weight': 0.03383442386984825, 'main.19.bias': 0.041924018412828445, 'main.21.weight': 13.963349342346191}\n"
     ]
    }
   ],
   "source": [
    "batch_size = 256\n",
    "latent_size = 512\n",
    "regWeight = 10\n",
    "criterion = nn.BCELoss()\n",
    "\n",
    "noise = torch.randn(batch_size, latent_size)\n",
    "output = dis_model(gen_model(noise)).view(-1)\n",
    "real_label = torch.full((batch_size, ), 1, dtype=torch.float)\n",
    "l_adv = criterion(output, real_label)\n",
    "\n",
    "fs, fs_dict = fisher(gen_model, l_adv, nsample=batch_size)\n",
    "\n",
    "print(fs_dict)"
   ]
  },
  {
   "cell_type": "code",
   "execution_count": 50,
   "metadata": {},
   "outputs": [
    {
     "name": "stdout",
     "output_type": "stream",
     "text": [
      ">>> l_adv tensor(5.4664, grad_fn=<BinaryCrossEntropyBackward0>)\n"
     ]
    },
    {
     "data": {
      "text/plain": [
       "tensor(5.4664, grad_fn=<AddBackward0>)"
      ]
     },
     "execution_count": 50,
     "metadata": {},
     "output_type": "execute_result"
    }
   ],
   "source": [
    "generator_new = deepcopy(gen_model)\n",
    "loss_adapt(\n",
    "    l_adv, generator_new, gen_model,\n",
    "    fishers=fs_dict, fweight=1\n",
    ")"
   ]
  },
  {
   "cell_type": "code",
   "execution_count": 29,
   "metadata": {},
   "outputs": [
    {
     "data": {
      "image/png": "[encoded data removed]",
      "text/plain": [
       "<Figure size 640x480 with 1 Axes>"
      ]
     },
     "metadata": {},
     "output_type": "display_data"
    }
   ],
   "source": [
    "import matplotlib.pyplot as plt\n",
    "\n",
    "fisher_vals = [fs_dict[n] for n in fs_dict]\n",
    "\n",
    "plt.bar(np.arange(len(fisher_vals)) + 1, fisher_vals)\n",
    "plt.show()"
   ]
  }
 ],
 "metadata": {
  "kernelspec": {
   "display_name": "base",
   "language": "python",
   "name": "python3"
  },
  "language_info": {
   "codemirror_mode": {
    "name": "ipython",
    "version": 3
   },
   "file_extension": ".py",
   "mimetype": "text/x-python",
   "name": "python",
   "nbconvert_exporter": "python",
   "pygments_lexer": "ipython3",
   "version": "3.12.4"
  }
 },
 "nbformat": 4,
 "nbformat_minor": 2
}
