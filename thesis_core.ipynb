{
  "cells": [
    {
      "cell_type": "code",
      "execution_count": 21,
      "metadata": {
        "id": "VwY2DhnJqChx"
      },
      "outputs": [],
      "source": [
        "import numpy as np\n",
        "import torch\n",
        "import torch.nn as nn\n",
        "import matplotlib.pyplot as plt\n",
        "from tqdm import tqdm\n",
        "import os\n",
        "from IPython.display import clear_output\n",
        "import torchvision.transforms as transforms\n",
        "from torchvision.datasets import ImageFolder\n",
        "from torch.utils.data import DataLoader\n",
        "import torch.optim as optim\n",
        "\n",
        "\n",
        "\n"
      ]
    },
    {
      "cell_type": "code",
      "execution_count": 22,
      "metadata": {},
      "outputs": [
        {
          "data": {
            "text/plain": [
              "device(type='cuda')"
            ]
          },
          "execution_count": 22,
          "metadata": {},
          "output_type": "execute_result"
        }
      ],
      "source": [
        "device = torch.device(\"cuda\" if torch.cuda.is_available() else \"cpu\")\n",
        "device"
      ]
    },
    {
      "cell_type": "code",
      "execution_count": 23,
      "metadata": {
        "id": "uwjd9bBByhZA"
      },
      "outputs": [],
      "source": [
        "#define value\n",
        "batch_size = 256\n",
        "num_epochs = 2000"
      ]
    },
    {
      "cell_type": "code",
      "execution_count": 24,
      "metadata": {
        "colab": {
          "base_uri": "https://localhost:8080/"
        },
        "id": "uGcdagxO2zJv",
        "outputId": "f3334e66-3c14-4d3c-d21d-3455aa9e972a"
      },
      "outputs": [],
      "source": [
        "PATH = 'C:/Users/DELL/Downloads/SimpsonsData/'"
      ]
    },
    {
      "cell_type": "code",
      "execution_count": 25,
      "metadata": {},
      "outputs": [],
      "source": [
        "transform = transforms.Compose([\n",
        "    transforms.Resize((64, 64)),  \n",
        "    transforms.ToTensor()          \n",
        "    # transforms.Normalize(mean=[0.5, 0.5, 0.5], std=[0.5, 0.5, 0.5])  \n",
        "])"
      ]
    },
    {
      "cell_type": "code",
      "execution_count": 26,
      "metadata": {},
      "outputs": [],
      "source": [
        "dataset = ImageFolder(root=PATH, transform=transform)"
      ]
    },
    {
      "cell_type": "code",
      "execution_count": 27,
      "metadata": {},
      "outputs": [],
      "source": [
        "data = []\n",
        "for i in range(len(dataset)):\n",
        "    temp = dataset[i][0]\n",
        "    np.array(temp)\n",
        "    data.append(temp)"
      ]
    },
    {
      "cell_type": "code",
      "execution_count": 28,
      "metadata": {},
      "outputs": [],
      "source": [
        "data = torch.stack(data)"
      ]
    },
    {
      "cell_type": "code",
      "execution_count": 29,
      "metadata": {},
      "outputs": [],
      "source": [
        "dataloader = DataLoader(dataset, batch_size=batch_size, shuffle=True)"
      ]
    },
    {
      "cell_type": "code",
      "execution_count": 30,
      "metadata": {},
      "outputs": [],
      "source": [
        "class Discriminator(nn.Module):\n",
        "    def __init__(self):\n",
        "        super(Discriminator, self).__init__()\n",
        "        self.main = nn.Sequential(\n",
        "            # input: 3 x 64 x 64\n",
        "            nn.Conv2d(in_channels=3, out_channels=64, kernel_size=4, stride=2, padding=1, bias=False),\n",
        "            #nn.BatchNorm2d(64),\n",
        "            nn.LeakyReLU(0.01, inplace=True),\n",
        "            # output: 64 x 32 x 32\n",
        "\n",
        "            nn.Conv2d(in_channels=64, out_channels=128, kernel_size=4, stride=2, padding=1, bias=False),\n",
        "            #nn.BatchNorm2d(128),\n",
        "            nn.LeakyReLU(0.01, inplace=True),\n",
        "            # output: 128 x 16 x 16\n",
        "\n",
        "            nn.Conv2d(in_channels=128, out_channels=256, kernel_size=4, stride=2, padding=1, bias=False),\n",
        "            #nn.BatchNorm2d(256),\n",
        "            nn.LeakyReLU(0.01, inplace=True),\n",
        "            # output: 256 x 8 x 8\n",
        "\n",
        "            nn.Conv2d(in_channels=256, out_channels=512, kernel_size=4, stride=2, padding=1, bias=False),\n",
        "            #nn.BatchNorm2d(512),\n",
        "            nn.LeakyReLU(0.01, inplace=True),\n",
        "            # output: 512 x 4 x 4\n",
        "\n",
        "            nn.Flatten(),\n",
        "            #output : 512*4*4\n",
        "            nn.Linear(in_features=512*4*4,out_features=256),\n",
        "            nn.LeakyReLU(0.01, inplace=True),\n",
        "            nn.Linear(in_features=256,out_features=1),\n",
        "            \n",
        "            nn.Sigmoid()\n",
        "            # output: 1 x 1 x 1\n",
        "        )\n",
        "\n",
        "        \n",
        "\n",
        "    def forward(self, x):\n",
        "        return self.main(x)\n"
      ]
    },
    {
      "cell_type": "code",
      "execution_count": 31,
      "metadata": {
        "id": "W0qPANuzC4ce"
      },
      "outputs": [],
      "source": [
        "class Generator(nn.Module):\n",
        "    def __init__(self):\n",
        "        super(Generator, self).__init__()\n",
        "        self.main = nn.Sequential(\n",
        "            nn.Linear(in_features=512, out_features= 1024, bias=True),\n",
        "            nn.Tanh(),\n",
        "            nn.Unflatten(1, (1024, 1, 1)),  \n",
        "\n",
        "            # output : 1024 x 1 x 1\n",
        "            nn.ConvTranspose2d(in_channels=1024, out_channels=768, kernel_size=4, stride=2, padding=1, bias=False),\n",
        "            nn.LeakyReLU(0.2),\n",
        "            # output : 768 x 2 x 2\n",
        "            \n",
        "            nn.ConvTranspose2d(in_channels=768, out_channels=512, kernel_size=4, stride=2, padding=1, bias=False),\n",
        "            nn.LeakyReLU(0.1),\n",
        "            #output : 512 x 4 x 4\n",
        "\n",
        "            nn.ConvTranspose2d(in_channels=512, out_channels=384, kernel_size=4, stride=2, padding=1, bias=False),\n",
        "            nn.LeakyReLU(0.05),\n",
        "            # output: 128 x 8 x 8\n",
        "            \n",
        "            nn.ConvTranspose2d(in_channels=384, out_channels=256, kernel_size=4, stride=2, padding=1, bias=False),\n",
        "            nn.LeakyReLU(0.02),\n",
        "            # output : 256 x 16 x 16\n",
        "\n",
        "            nn.ConvTranspose2d(in_channels=256, out_channels=128, kernel_size=4, stride=2, padding=1, bias=False),\n",
        "            nn.LeakyReLU(0.01),\n",
        "            # output : 128 x 32 x 32\n",
        "\n",
        "            nn.ConvTranspose2d(in_channels=128, out_channels=3, kernel_size=4, stride=2, padding=1, bias=False),\n",
        "            nn.Sigmoid()\n",
        "            # output: 3 x 64 x 64            \n",
        "        )\n",
        "\n",
        "    def forward(self, x):\n",
        "        return self.main(x)\n"
      ]
    },
    {
      "cell_type": "code",
      "execution_count": 32,
      "metadata": {
        "colab": {
          "base_uri": "https://localhost:8080/",
          "height": 256
        },
        "id": "b6mZW9N5I4gI",
        "outputId": "8e1311fd-483c-48e4-ff86-544816ad6ce6"
      },
      "outputs": [
        {
          "name": "stdout",
          "output_type": "stream",
          "text": [
            "torch.Size([1, 3, 64, 64])\n",
            "Min value: 0.4997026324272156 Max value: 0.5002791881561279\n",
            "(3, 64, 64)\n"
          ]
        },
        {
          "data": {
            "image/png": "[encoded data removed]",
            "text/plain": [
              "<Figure size 1000x400 with 4 Axes>"
            ]
          },
          "metadata": {},
          "output_type": "display_data"
        }
      ],
      "source": [
        "#test generator\n",
        "random_tensor = torch.randn(1,512)\n",
        "generator_test = Generator()\n",
        "result = generator_test(random_tensor)\n",
        "\n",
        "print(result.shape)\n",
        "print(\"Min value:\", result.min().item(), \"Max value:\", result.max().item())\n",
        "\n",
        "# Tách các kênh màu\n",
        "red_channel = result.detach().numpy()[0, 0, :, :]  \n",
        "green_channel = result.detach().numpy()[0, 1, :, :] \n",
        "blue_channel = result.detach().numpy()[0, 2, :, :] \n",
        "\n",
        "plt.figure(figsize=(10, 4))\n",
        "\n",
        "# Red channel\n",
        "plt.subplot(1, 4, 1)\n",
        "plt.imshow(red_channel, cmap='Reds')\n",
        "plt.title('Red Channel')\n",
        "plt.axis('off')\n",
        "\n",
        "# Green channel\n",
        "plt.subplot(1, 4, 2)\n",
        "plt.imshow(green_channel, cmap='Greens')\n",
        "plt.title('Green Channel')\n",
        "plt.axis('off')\n",
        "\n",
        "# Blue channel\n",
        "plt.subplot(1, 4, 3)\n",
        "plt.imshow(blue_channel, cmap='Blues')\n",
        "plt.title('Blue Channel')\n",
        "plt.axis('off')\n",
        "print(result[0].detach().numpy().shape)\n",
        "# Stacked RGB image\n",
        "plt.subplot(1, 4, 4)\n",
        "plt.imshow(result[0].permute(1,2,0).detach().numpy())\n",
        "plt.title('RGB Image')\n",
        "plt.axis('off')\n",
        "\n",
        "plt.tight_layout()\n",
        "plt.show()"
      ]
    },
    {
      "cell_type": "code",
      "execution_count": 33,
      "metadata": {
        "id": "ZnXYV-cT4J42"
      },
      "outputs": [],
      "source": [
        "def make_image(epoch, generator, examples=25, dim=(5,5), figsize=(10,10)):\n",
        "  noise= torch.randn(examples, 512).to(device)\n",
        "  generated_images = generator(noise)\n",
        "  #generated_images = generated_images.reshape(examples,3,128,128)\n",
        "  plt.figure(figsize=figsize)\n",
        "  plt.subplots_adjust(left=0.1, right=0.9, top=0.9, bottom=0.1)\n",
        "\n",
        "\n",
        "  for i in range(generated_images.shape[0]):\n",
        "    # Tách các kênh màu\n",
        "    red_channel = generated_images.cpu().detach().numpy()[i, 0, :, :]\n",
        "    green_channel = generated_images.cpu().detach().numpy()[i, 1, :, :]\n",
        "    blue_channel = generated_images.cpu().detach().numpy()[i, 2, :, :]\n",
        "    # Ghép các kênh màu lại thành một ảnh RGB\n",
        "    stacked_image = np.stack((red_channel, green_channel, blue_channel), axis = -1)\n",
        "    plt.subplot(5, 5, i + 1)\n",
        "    plt.imshow(stacked_image,interpolation='nearest',cmap='gray_r')\n",
        "    plt.axis('off')\n",
        "\n",
        "  \n",
        "\n",
        "  plt.tight_layout()\n",
        "  path = 'E:\\GAN_result'\n",
        "  plt.savefig(os.path.join(path,'gan_generated_image %d.png' %epoch))\n",
        "  plt.close('all')\n",
        "  # plt.show()"
      ]
    },
    {
      "cell_type": "code",
      "execution_count": 34,
      "metadata": {
        "id": "F3SxY6gprbdR"
      },
      "outputs": [
        {
          "data": {
            "text/plain": [
              "Discriminator(\n",
              "  (main): Sequential(\n",
              "    (0): Conv2d(3, 64, kernel_size=(4, 4), stride=(2, 2), padding=(1, 1), bias=False)\n",
              "    (1): LeakyReLU(negative_slope=0.01, inplace=True)\n",
              "    (2): Conv2d(64, 128, kernel_size=(4, 4), stride=(2, 2), padding=(1, 1), bias=False)\n",
              "    (3): LeakyReLU(negative_slope=0.01, inplace=True)\n",
              "    (4): Conv2d(128, 256, kernel_size=(4, 4), stride=(2, 2), padding=(1, 1), bias=False)\n",
              "    (5): LeakyReLU(negative_slope=0.01, inplace=True)\n",
              "    (6): Conv2d(256, 512, kernel_size=(4, 4), stride=(2, 2), padding=(1, 1), bias=False)\n",
              "    (7): LeakyReLU(negative_slope=0.01, inplace=True)\n",
              "    (8): Flatten(start_dim=1, end_dim=-1)\n",
              "    (9): Linear(in_features=8192, out_features=256, bias=True)\n",
              "    (10): LeakyReLU(negative_slope=0.01, inplace=True)\n",
              "    (11): Linear(in_features=256, out_features=1, bias=True)\n",
              "    (12): Sigmoid()\n",
              "  )\n",
              ")"
            ]
          },
          "execution_count": 34,
          "metadata": {},
          "output_type": "execute_result"
        }
      ],
      "source": [
        "#init the sub-network for GAN\n",
        "\n",
        "generator = Generator()\n",
        "discriminator = Discriminator()\n",
        "\n",
        "generator.to(device)\n",
        "discriminator.to(device)"
      ]
    },
    {
      "cell_type": "code",
      "execution_count": 35,
      "metadata": {
        "id": "vacFi_gNmzsp"
      },
      "outputs": [],
      "source": [
        "criterion = nn.BCELoss()\n",
        "optimizer_g = optim.Adam(generator.parameters(), lr=0.0001, betas=(0.5, 0.999))\n",
        "optimizer_d = optim.Adam(discriminator.parameters(), lr=0.0001, betas=(0.5, 0.999))\n",
        "# G_scheduler = torch.optim.lr_scheduler.ReduceLROnPlateau(Generator_optimizer, mode='min', factor=0.5, patience=5)\n",
        "# D_scheduler = torch.optim.lr_scheduler.ReduceLROnPlateau(Discriminator_optimizer, mode='min', factor=0.5, patience=5)\n"
      ]
    },
    {
      "cell_type": "markdown",
      "metadata": {},
      "source": [
        "***Train 1***"
      ]
    },
    {
      "cell_type": "code",
      "execution_count": 41,
      "metadata": {},
      "outputs": [
        {
          "name": "stdout",
          "output_type": "stream",
          "text": [
            "Loss_D: 1.3082 Loss_G: 0.7077 D(x): 0.5211 D(G(z)): 0.5154 / 0.5117\n",
            "Epoch  3\n",
            "Epoch :  [3/2000] \n"
          ]
        },
        {
          "data": {
            "image/png": "[encoded data removed]",
            "text/plain": [
              "<Figure size 1000x500 with 1 Axes>"
            ]
          },
          "metadata": {},
          "output_type": "display_data"
        },
        {
          "name": "stderr",
          "output_type": "stream",
          "text": [
            " 66%|██████▌   | 25/38 [00:07<00:03,  3.46it/s]\n"
          ]
        },
        {
          "ename": "KeyboardInterrupt",
          "evalue": "",
          "output_type": "error",
          "traceback": [
            "\u001b[1;31m---------------------------------------------------------------------------\u001b[0m",
            "\u001b[1;31mKeyboardInterrupt\u001b[0m                         Traceback (most recent call last)",
            "Cell \u001b[1;32mIn[41], line 53\u001b[0m\n\u001b[0;32m     51\u001b[0m \u001b[38;5;66;03m# Cập nhật Generator: maximize log(D(G(z)))\u001b[39;00m\n\u001b[0;32m     52\u001b[0m generator\u001b[38;5;241m.\u001b[39mzero_grad()\n\u001b[1;32m---> 53\u001b[0m \u001b[43mlabels\u001b[49m\u001b[38;5;241;43m.\u001b[39;49m\u001b[43mfill_\u001b[49m\u001b[43m(\u001b[49m\u001b[43mreal_label\u001b[49m\u001b[43m)\u001b[49m\n\u001b[0;32m     54\u001b[0m output \u001b[38;5;241m=\u001b[39m discriminator(fake_data)\u001b[38;5;241m.\u001b[39mview(\u001b[38;5;241m-\u001b[39m\u001b[38;5;241m1\u001b[39m)\n\u001b[0;32m     55\u001b[0m loss_g \u001b[38;5;241m=\u001b[39m criterion(output, labels)\n",
            "\u001b[1;31mKeyboardInterrupt\u001b[0m: "
          ]
        }
      ],
      "source": [
        "g_history = []\n",
        "d_history = []\n",
        "real_label = 1.\n",
        "fake_label = 0.\n",
        "for epoch in range(num_epochs):\n",
        "    batch_count = int(data.shape[0]/batch_size)\n",
        "    print(\"Epoch \",epoch)\n",
        "    shuffle_factor = torch.randperm(data.size(0))\n",
        "    data = data[shuffle_factor]\n",
        "\n",
        "    avg_loss_d = 0 \n",
        "    avg_loss_g = 0\n",
        "    print('Epoch : ',f'[{epoch}/{num_epochs}] ')\n",
        "    plt.figure(figsize=(10,5))\n",
        "    plt.plot(range(1, len(g_history) + 1), g_history, 'b', label='Generator Loss')\n",
        "    plt.plot(range(1, len(g_history) + 1), d_history, 'r', label='Discriminator Loss')\n",
        "    plt.title('Generator and Discriminator Loss During Training')\n",
        "    plt.xlabel('Epochs')\n",
        "    plt.ylabel('Loss')\n",
        "    plt.legend()\n",
        "    plt.show()\n",
        "\n",
        "    for i in tqdm(range(batch_count)):\n",
        "        real_data = data[i*batch_size:(i+1)*batch_size].to(device)\n",
        "\n",
        "        # Cập nhật Discriminator: maximize log(D(x)) + log(1 - D(G(z)))\n",
        "        ## Đào tạo với dữ liệu thật\n",
        "\n",
        "\n",
        "        discriminator.zero_grad()\n",
        "        # real_data = data[0].to(device)\n",
        "        batch_size = real_data.size(0)\n",
        "        labels = torch.full((batch_size,), real_label, dtype=torch.float, device=device)\n",
        "        output = discriminator(real_data).view(-1)\n",
        "        loss_d_real = criterion(output, labels)\n",
        "        loss_d_real.backward()\n",
        "        D_x = output.mean().item()\n",
        "\n",
        "        ## Đào tạo với dữ liệu giả\n",
        "        noise = torch.randn(batch_size, 512, device=device)\n",
        "        fake_data = generator(noise)\n",
        "        labels.fill_(fake_label)\n",
        "        output = discriminator(fake_data.detach()).view(-1)\n",
        "        loss_d_fake = criterion(output, labels)\n",
        "        loss_d_fake.backward()\n",
        "        D_G_z1 = output.mean().item()\n",
        "        loss_d = loss_d_real + loss_d_fake\n",
        "        avg_loss_d += loss_d       \n",
        "        optimizer_d.step()\n",
        "\n",
        "        # Cập nhật Generator: maximize log(D(G(z)))\n",
        "        generator.zero_grad()\n",
        "        labels.fill_(real_label)\n",
        "        output = discriminator(fake_data).view(-1)\n",
        "        loss_g = criterion(output, labels)\n",
        "        avg_loss_g += loss_g\n",
        "        loss_g.backward()\n",
        "        D_G_z2 = output.mean().item()\n",
        "        optimizer_g.step()\n",
        "    \n",
        "    avg_loss_d /= len(dataloader)\n",
        "    avg_loss_g /= len(dataloader)\n",
        "\n",
        "    d_history.append(avg_loss_d.detach().cpu().numpy())\n",
        "    g_history.append(avg_loss_g.detach().cpu().numpy())\n",
        "\n",
        "    clear_output()\n",
        "    print(  f'Loss_D: {avg_loss_d.item():.4f} Loss_G: {avg_loss_g.item():.4f} '\n",
        "            f'D(x): {D_x:.4f} D(G(z)): {D_G_z1:.4f} / {D_G_z2:.4f}')\n",
        "    if epoch % 5 == 0 :\n",
        "        make_image(epoch,generator)\n",
        "\n",
        "        \n",
        "        "
      ]
    },
    {
      "cell_type": "markdown",
      "metadata": {},
      "source": [
        "***Train 2***"
      ]
    },
    {
      "cell_type": "code",
      "execution_count": 37,
      "metadata": {},
      "outputs": [
        {
          "data": {
            "text/plain": [
              "9877"
            ]
          },
          "execution_count": 37,
          "metadata": {},
          "output_type": "execute_result"
        }
      ],
      "source": [
        "data.shape[0]"
      ]
    },
    {
      "cell_type": "code",
      "execution_count": 40,
      "metadata": {},
      "outputs": [
        {
          "name": "stdout",
          "output_type": "stream",
          "text": [
            "Epoch  0\n"
          ]
        },
        {
          "name": "stderr",
          "output_type": "stream",
          "text": [
            "100%|██████████| 38/38 [00:09<00:00,  3.86it/s]\n"
          ]
        },
        {
          "name": "stdout",
          "output_type": "stream",
          "text": [
            "Epoch  1\n"
          ]
        },
        {
          "name": "stderr",
          "output_type": "stream",
          "text": [
            "100%|██████████| 38/38 [00:09<00:00,  3.94it/s]\n"
          ]
        },
        {
          "name": "stdout",
          "output_type": "stream",
          "text": [
            "Epoch  2\n"
          ]
        },
        {
          "name": "stderr",
          "output_type": "stream",
          "text": [
            "100%|██████████| 38/38 [00:08<00:00,  4.28it/s]\n"
          ]
        },
        {
          "name": "stdout",
          "output_type": "stream",
          "text": [
            "Epoch  3\n"
          ]
        },
        {
          "name": "stderr",
          "output_type": "stream",
          "text": [
            "100%|██████████| 38/38 [00:09<00:00,  4.19it/s]\n"
          ]
        },
        {
          "name": "stdout",
          "output_type": "stream",
          "text": [
            "Epoch  4\n"
          ]
        },
        {
          "name": "stderr",
          "output_type": "stream",
          "text": [
            "100%|██████████| 38/38 [00:09<00:00,  4.12it/s]\n"
          ]
        },
        {
          "name": "stdout",
          "output_type": "stream",
          "text": [
            "Epoch  5\n"
          ]
        },
        {
          "name": "stderr",
          "output_type": "stream",
          "text": [
            "100%|██████████| 38/38 [00:09<00:00,  4.06it/s]\n"
          ]
        },
        {
          "name": "stdout",
          "output_type": "stream",
          "text": [
            "Epoch  6\n"
          ]
        },
        {
          "name": "stderr",
          "output_type": "stream",
          "text": [
            "100%|██████████| 38/38 [00:09<00:00,  4.01it/s]\n"
          ]
        },
        {
          "name": "stdout",
          "output_type": "stream",
          "text": [
            "Epoch  7\n"
          ]
        },
        {
          "name": "stderr",
          "output_type": "stream",
          "text": [
            "100%|██████████| 38/38 [00:09<00:00,  3.98it/s]\n"
          ]
        },
        {
          "name": "stdout",
          "output_type": "stream",
          "text": [
            "Epoch  8\n"
          ]
        },
        {
          "name": "stderr",
          "output_type": "stream",
          "text": [
            "100%|██████████| 38/38 [00:09<00:00,  3.96it/s]\n"
          ]
        },
        {
          "name": "stdout",
          "output_type": "stream",
          "text": [
            "Epoch  9\n"
          ]
        },
        {
          "name": "stderr",
          "output_type": "stream",
          "text": [
            "100%|██████████| 38/38 [00:09<00:00,  3.93it/s]\n"
          ]
        },
        {
          "name": "stdout",
          "output_type": "stream",
          "text": [
            "Epoch  10\n"
          ]
        },
        {
          "name": "stderr",
          "output_type": "stream",
          "text": [
            "100%|██████████| 38/38 [00:09<00:00,  3.88it/s]\n"
          ]
        },
        {
          "name": "stdout",
          "output_type": "stream",
          "text": [
            "Epoch  11\n"
          ]
        },
        {
          "name": "stderr",
          "output_type": "stream",
          "text": [
            "100%|██████████| 38/38 [00:09<00:00,  3.88it/s]\n"
          ]
        },
        {
          "name": "stdout",
          "output_type": "stream",
          "text": [
            "Epoch  12\n"
          ]
        },
        {
          "name": "stderr",
          "output_type": "stream",
          "text": [
            "100%|██████████| 38/38 [00:09<00:00,  3.86it/s]\n"
          ]
        },
        {
          "name": "stdout",
          "output_type": "stream",
          "text": [
            "Epoch  13\n"
          ]
        },
        {
          "name": "stderr",
          "output_type": "stream",
          "text": [
            "100%|██████████| 38/38 [00:09<00:00,  3.85it/s]\n"
          ]
        },
        {
          "name": "stdout",
          "output_type": "stream",
          "text": [
            "Epoch  14\n"
          ]
        },
        {
          "name": "stderr",
          "output_type": "stream",
          "text": [
            "100%|██████████| 38/38 [00:09<00:00,  3.86it/s]\n"
          ]
        },
        {
          "name": "stdout",
          "output_type": "stream",
          "text": [
            "Epoch  15\n"
          ]
        },
        {
          "name": "stderr",
          "output_type": "stream",
          "text": [
            "100%|██████████| 38/38 [00:09<00:00,  3.84it/s]\n"
          ]
        },
        {
          "name": "stdout",
          "output_type": "stream",
          "text": [
            "Epoch  16\n"
          ]
        },
        {
          "name": "stderr",
          "output_type": "stream",
          "text": [
            "100%|██████████| 38/38 [00:09<00:00,  3.86it/s]\n"
          ]
        },
        {
          "name": "stdout",
          "output_type": "stream",
          "text": [
            "Epoch  17\n"
          ]
        },
        {
          "name": "stderr",
          "output_type": "stream",
          "text": [
            "100%|██████████| 38/38 [00:09<00:00,  3.83it/s]\n"
          ]
        },
        {
          "name": "stdout",
          "output_type": "stream",
          "text": [
            "Epoch  18\n"
          ]
        },
        {
          "name": "stderr",
          "output_type": "stream",
          "text": [
            "100%|██████████| 38/38 [00:09<00:00,  3.85it/s]\n"
          ]
        },
        {
          "name": "stdout",
          "output_type": "stream",
          "text": [
            "Epoch  19\n"
          ]
        },
        {
          "name": "stderr",
          "output_type": "stream",
          "text": [
            "100%|██████████| 38/38 [00:09<00:00,  3.83it/s]\n"
          ]
        },
        {
          "name": "stdout",
          "output_type": "stream",
          "text": [
            "Epoch  20\n"
          ]
        },
        {
          "name": "stderr",
          "output_type": "stream",
          "text": [
            "100%|██████████| 38/38 [00:09<00:00,  3.83it/s]\n"
          ]
        },
        {
          "name": "stdout",
          "output_type": "stream",
          "text": [
            "Epoch  21\n"
          ]
        },
        {
          "name": "stderr",
          "output_type": "stream",
          "text": [
            "100%|██████████| 38/38 [00:09<00:00,  3.81it/s]\n"
          ]
        },
        {
          "name": "stdout",
          "output_type": "stream",
          "text": [
            "Epoch  22\n"
          ]
        },
        {
          "name": "stderr",
          "output_type": "stream",
          "text": [
            "100%|██████████| 38/38 [00:09<00:00,  3.82it/s]\n"
          ]
        },
        {
          "name": "stdout",
          "output_type": "stream",
          "text": [
            "Epoch  23\n"
          ]
        },
        {
          "name": "stderr",
          "output_type": "stream",
          "text": [
            "100%|██████████| 38/38 [00:09<00:00,  3.83it/s]\n"
          ]
        },
        {
          "name": "stdout",
          "output_type": "stream",
          "text": [
            "Epoch  24\n"
          ]
        },
        {
          "name": "stderr",
          "output_type": "stream",
          "text": [
            "100%|██████████| 38/38 [00:09<00:00,  3.84it/s]\n"
          ]
        },
        {
          "name": "stdout",
          "output_type": "stream",
          "text": [
            "Epoch  25\n"
          ]
        },
        {
          "name": "stderr",
          "output_type": "stream",
          "text": [
            "100%|██████████| 38/38 [00:10<00:00,  3.79it/s]\n"
          ]
        },
        {
          "name": "stdout",
          "output_type": "stream",
          "text": [
            "Epoch  26\n"
          ]
        },
        {
          "name": "stderr",
          "output_type": "stream",
          "text": [
            "100%|██████████| 38/38 [00:09<00:00,  3.80it/s]\n"
          ]
        },
        {
          "name": "stdout",
          "output_type": "stream",
          "text": [
            "Epoch  27\n"
          ]
        },
        {
          "name": "stderr",
          "output_type": "stream",
          "text": [
            "100%|██████████| 38/38 [00:10<00:00,  3.79it/s]\n"
          ]
        },
        {
          "name": "stdout",
          "output_type": "stream",
          "text": [
            "Epoch  28\n"
          ]
        },
        {
          "name": "stderr",
          "output_type": "stream",
          "text": [
            "100%|██████████| 38/38 [00:09<00:00,  3.81it/s]\n"
          ]
        },
        {
          "name": "stdout",
          "output_type": "stream",
          "text": [
            "Epoch  29\n"
          ]
        },
        {
          "name": "stderr",
          "output_type": "stream",
          "text": [
            "100%|██████████| 38/38 [00:09<00:00,  3.81it/s]\n"
          ]
        },
        {
          "name": "stdout",
          "output_type": "stream",
          "text": [
            "Epoch  30\n"
          ]
        },
        {
          "name": "stderr",
          "output_type": "stream",
          "text": [
            "100%|██████████| 38/38 [00:09<00:00,  3.82it/s]\n"
          ]
        },
        {
          "name": "stdout",
          "output_type": "stream",
          "text": [
            "Epoch  31\n"
          ]
        },
        {
          "name": "stderr",
          "output_type": "stream",
          "text": [
            "100%|██████████| 38/38 [00:09<00:00,  3.80it/s]\n"
          ]
        },
        {
          "name": "stdout",
          "output_type": "stream",
          "text": [
            "Epoch  32\n"
          ]
        },
        {
          "name": "stderr",
          "output_type": "stream",
          "text": [
            "100%|██████████| 38/38 [00:10<00:00,  3.80it/s]\n"
          ]
        },
        {
          "name": "stdout",
          "output_type": "stream",
          "text": [
            "Epoch  33\n"
          ]
        },
        {
          "name": "stderr",
          "output_type": "stream",
          "text": [
            "100%|██████████| 38/38 [00:09<00:00,  3.80it/s]\n"
          ]
        },
        {
          "name": "stdout",
          "output_type": "stream",
          "text": [
            "Epoch  34\n"
          ]
        },
        {
          "name": "stderr",
          "output_type": "stream",
          "text": [
            "100%|██████████| 38/38 [00:09<00:00,  3.82it/s]\n"
          ]
        },
        {
          "name": "stdout",
          "output_type": "stream",
          "text": [
            "Epoch  35\n"
          ]
        },
        {
          "name": "stderr",
          "output_type": "stream",
          "text": [
            "100%|██████████| 38/38 [00:10<00:00,  3.80it/s]\n"
          ]
        },
        {
          "name": "stdout",
          "output_type": "stream",
          "text": [
            "Epoch  36\n"
          ]
        },
        {
          "name": "stderr",
          "output_type": "stream",
          "text": [
            "100%|██████████| 38/38 [00:09<00:00,  3.82it/s]\n"
          ]
        },
        {
          "name": "stdout",
          "output_type": "stream",
          "text": [
            "Epoch  37\n"
          ]
        },
        {
          "name": "stderr",
          "output_type": "stream",
          "text": [
            "100%|██████████| 38/38 [00:10<00:00,  3.79it/s]\n"
          ]
        },
        {
          "name": "stdout",
          "output_type": "stream",
          "text": [
            "Epoch  38\n"
          ]
        },
        {
          "name": "stderr",
          "output_type": "stream",
          "text": [
            "100%|██████████| 38/38 [00:09<00:00,  3.81it/s]\n"
          ]
        },
        {
          "name": "stdout",
          "output_type": "stream",
          "text": [
            "Epoch  39\n"
          ]
        },
        {
          "name": "stderr",
          "output_type": "stream",
          "text": [
            "100%|██████████| 38/38 [00:10<00:00,  3.79it/s]\n"
          ]
        },
        {
          "name": "stdout",
          "output_type": "stream",
          "text": [
            "Epoch  40\n"
          ]
        },
        {
          "name": "stderr",
          "output_type": "stream",
          "text": [
            "100%|██████████| 38/38 [00:09<00:00,  3.81it/s]\n"
          ]
        },
        {
          "name": "stdout",
          "output_type": "stream",
          "text": [
            "Epoch  41\n"
          ]
        },
        {
          "name": "stderr",
          "output_type": "stream",
          "text": [
            "100%|██████████| 38/38 [00:09<00:00,  3.86it/s]\n"
          ]
        },
        {
          "name": "stdout",
          "output_type": "stream",
          "text": [
            "Epoch  42\n"
          ]
        },
        {
          "name": "stderr",
          "output_type": "stream",
          "text": [
            "100%|██████████| 38/38 [00:09<00:00,  3.88it/s]\n"
          ]
        },
        {
          "name": "stdout",
          "output_type": "stream",
          "text": [
            "Epoch  43\n"
          ]
        },
        {
          "name": "stderr",
          "output_type": "stream",
          "text": [
            "100%|██████████| 38/38 [00:09<00:00,  3.81it/s]\n"
          ]
        },
        {
          "name": "stdout",
          "output_type": "stream",
          "text": [
            "Epoch  44\n"
          ]
        },
        {
          "name": "stderr",
          "output_type": "stream",
          "text": [
            "100%|██████████| 38/38 [00:09<00:00,  3.82it/s]\n"
          ]
        },
        {
          "name": "stdout",
          "output_type": "stream",
          "text": [
            "Epoch  45\n"
          ]
        },
        {
          "name": "stderr",
          "output_type": "stream",
          "text": [
            "100%|██████████| 38/38 [00:09<00:00,  3.81it/s]\n"
          ]
        },
        {
          "name": "stdout",
          "output_type": "stream",
          "text": [
            "Epoch  46\n"
          ]
        },
        {
          "name": "stderr",
          "output_type": "stream",
          "text": [
            "100%|██████████| 38/38 [00:10<00:00,  3.74it/s]\n"
          ]
        },
        {
          "name": "stdout",
          "output_type": "stream",
          "text": [
            "Epoch  47\n"
          ]
        },
        {
          "name": "stderr",
          "output_type": "stream",
          "text": [
            "100%|██████████| 38/38 [00:10<00:00,  3.71it/s]\n"
          ]
        },
        {
          "name": "stdout",
          "output_type": "stream",
          "text": [
            "Epoch  48\n"
          ]
        },
        {
          "name": "stderr",
          "output_type": "stream",
          "text": [
            "100%|██████████| 38/38 [00:10<00:00,  3.72it/s]\n"
          ]
        },
        {
          "name": "stdout",
          "output_type": "stream",
          "text": [
            "Epoch  49\n"
          ]
        },
        {
          "name": "stderr",
          "output_type": "stream",
          "text": [
            "100%|██████████| 38/38 [00:10<00:00,  3.73it/s]\n"
          ]
        },
        {
          "name": "stdout",
          "output_type": "stream",
          "text": [
            "Epoch  50\n"
          ]
        },
        {
          "name": "stderr",
          "output_type": "stream",
          "text": [
            "100%|██████████| 38/38 [00:10<00:00,  3.75it/s]\n"
          ]
        },
        {
          "name": "stdout",
          "output_type": "stream",
          "text": [
            "Epoch  51\n"
          ]
        },
        {
          "name": "stderr",
          "output_type": "stream",
          "text": [
            "100%|██████████| 38/38 [00:10<00:00,  3.62it/s]\n"
          ]
        },
        {
          "name": "stdout",
          "output_type": "stream",
          "text": [
            "Epoch  52\n"
          ]
        },
        {
          "name": "stderr",
          "output_type": "stream",
          "text": [
            " 61%|██████    | 23/38 [00:06<00:04,  3.68it/s]\n"
          ]
        },
        {
          "ename": "KeyboardInterrupt",
          "evalue": "",
          "output_type": "error",
          "traceback": [
            "\u001b[1;31m---------------------------------------------------------------------------\u001b[0m",
            "\u001b[1;31mKeyboardInterrupt\u001b[0m                         Traceback (most recent call last)",
            "Cell \u001b[1;32mIn[40], line 8\u001b[0m\n\u001b[0;32m      6\u001b[0m data \u001b[38;5;241m=\u001b[39m data[shuffle_factor]\n\u001b[0;32m      7\u001b[0m \u001b[38;5;28;01mfor\u001b[39;00m i \u001b[38;5;129;01min\u001b[39;00m tqdm(\u001b[38;5;28mrange\u001b[39m(batch_count)):\n\u001b[1;32m----> 8\u001b[0m   data_train \u001b[38;5;241m=\u001b[39m \u001b[43mdata\u001b[49m\u001b[43m[\u001b[49m\u001b[43mi\u001b[49m\u001b[38;5;241;43m*\u001b[39;49m\u001b[43mbatch_size\u001b[49m\u001b[43m:\u001b[49m\u001b[43m(\u001b[49m\u001b[43mi\u001b[49m\u001b[38;5;241;43m+\u001b[39;49m\u001b[38;5;241;43m1\u001b[39;49m\u001b[43m)\u001b[49m\u001b[38;5;241;43m*\u001b[39;49m\u001b[43mbatch_size\u001b[49m\u001b[43m]\u001b[49m\u001b[38;5;241;43m.\u001b[39;49m\u001b[43mto\u001b[49m\u001b[43m(\u001b[49m\u001b[43mdevice\u001b[49m\u001b[43m)\u001b[49m\n\u001b[0;32m     10\u001b[0m   \u001b[38;5;66;03m#discriminator training\u001b[39;00m\n\u001b[0;32m     11\u001b[0m   discriminator\u001b[38;5;241m.\u001b[39mzero_grad()\n",
            "\u001b[1;31mKeyboardInterrupt\u001b[0m: "
          ]
        }
      ],
      "source": [
        "#train model\n",
        "for epoch in range(num_epochs):\n",
        "  batch_count = int(data.shape[0]/batch_size)\n",
        "  print(\"Epoch \",epoch)\n",
        "  shuffle_factor = torch.randperm(data.size(0))\n",
        "  data = data[shuffle_factor]\n",
        "  for i in tqdm(range(batch_count)):\n",
        "    data_train = data[i*batch_size:(i+1)*batch_size].to(device)\n",
        "    \n",
        "    #discriminator training\n",
        "    discriminator.zero_grad()\n",
        "    real_label = torch.ones(batch_size,1).to(device)\n",
        "    output = discriminator(data_train)\n",
        "    D_loss_real = criterion(output, real_label)\n",
        "    D_loss_real.backward()\n",
        "\n",
        "    #train D with fake data \n",
        "    noise = torch.randn(batch_size, 512).to(device)\n",
        "    fake_data = generator(noise).to(device)\n",
        "    fake_label = torch.zeros(batch_size,1).to(device)\n",
        "    output = discriminator(fake_data.detach())\n",
        "    D_loss_fake = criterion(output, fake_label)\n",
        "    D_loss_fake.backward()\n",
        "    \n",
        "    optimizer_d.step()\n",
        "\n",
        "    #generator.zero_grad()\n",
        "    generator.zero_grad()\n",
        "    output = discriminator(fake_data)\n",
        "    G_loss = criterion(output, fake_label)\n",
        "    G_loss.backward()\n",
        "\n",
        "    optimizer_g.step()\n",
        "    #print(f'End of batch {i} : 'f'Loss_D: {D_loss_real.item() + D_loss_fake.item()}, Loss_G: {G_loss.item()}' )\n",
        "    # i += batch_size\n",
        "  if epoch == 0 or epoch % 50 == 0 :\n",
        "     make_image(epoch, generator)\n"
      ]
    }
  ],
  "metadata": {
    "accelerator": "GPU",
    "colab": {
      "gpuType": "T4",
      "provenance": []
    },
    "kernelspec": {
      "display_name": "Python 3",
      "name": "python3"
    },
    "language_info": {
      "codemirror_mode": {
        "name": "ipython",
        "version": 3
      },
      "file_extension": ".py",
      "mimetype": "text/x-python",
      "name": "python",
      "nbconvert_exporter": "python",
      "pygments_lexer": "ipython3",
      "version": "3.10.5"
    }
  },
  "nbformat": 4,
  "nbformat_minor": 0
}
