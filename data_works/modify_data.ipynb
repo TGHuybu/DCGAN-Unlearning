{
 "cells": [
  {
   "cell_type": "code",
   "execution_count": 5,
   "metadata": {},
   "outputs": [],
   "source": [
    "import PIL\n",
    "import numpy as np\n",
    "import os\n",
    "import matplotlib.pyplot as plt"
   ]
  },
  {
   "cell_type": "code",
   "execution_count": 29,
   "metadata": {},
   "outputs": [],
   "source": [
    "path = \"data/cropped\"\n",
    "\n",
    "skin_colour = np.array([219,180,4])\n",
    "i = 0\n",
    "n = 1000\n",
    "\n",
    "for filename in os.listdir(path):\n",
    "\n",
    "    if i == n: break\n",
    "\n",
    "    if filename.endswith((\".png\")):\n",
    "\n",
    "        image_path = os.path.join(path, filename)\n",
    "        with PIL.Image.open(image_path) as img:\n",
    "            img_arr = np.array(img)\n",
    "        \n",
    "        mask = np.all(np.isclose(img_arr, skin_colour,rtol=1, atol=1), axis=-1)\n",
    "        img_arr[mask] = np.array([0, 0, 0])\n",
    "\n",
    "        plt.imsave(\"data/undesired/\" + str(i + 1) + \".png\", img_arr)\n",
    "\n",
    "    i += 1\n"
   ]
  }
 ],
 "metadata": {
  "kernelspec": {
   "display_name": "base",
   "language": "python",
   "name": "python3"
  },
  "language_info": {
   "codemirror_mode": {
    "name": "ipython",
    "version": 3
   },
   "file_extension": ".py",
   "mimetype": "text/x-python",
   "name": "python",
   "nbconvert_exporter": "python",
   "pygments_lexer": "ipython3",
   "version": "3.12.4"
  }
 },
 "nbformat": 4,
 "nbformat_minor": 2
}
