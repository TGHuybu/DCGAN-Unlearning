{
 "cells": [
  {
   "cell_type": "markdown",
   "metadata": {},
   "source": [
    "# **Test Ground for EWC Calculations**"
   ]
  },
  {
   "cell_type": "markdown",
   "metadata": {},
   "source": [
    "## **Import libraries**"
   ]
  },
  {
   "cell_type": "code",
   "execution_count": 1,
   "metadata": {},
   "outputs": [],
   "source": [
    "from copy import deepcopy\n",
    "import os\n",
    "\n",
    "import torch\n",
    "import torch.nn as nn\n",
    "import torch.autograd as autograd\n",
    "\n",
    "import torchvision.transforms as transforms\n",
    "from torchvision.datasets import ImageFolder\n",
    "from torch.utils.data import DataLoader\n",
    "import torch.optim as optim\n",
    "\n",
    "from tqdm import tqdm\n",
    "\n",
    "import numpy as np\n",
    "import matplotlib.pyplot as plt\n",
    "\n",
    "from dcgan.components.generator import Generator\n",
    "from dcgan.components.discriminator import Discriminator\n",
    "\n",
    "# For working with Notebooks\n",
    "from IPython.display import clear_output"
   ]
  },
  {
   "cell_type": "code",
   "execution_count": 2,
   "metadata": {},
   "outputs": [
    {
     "data": {
      "text/plain": [
       "device(type='cuda')"
      ]
     },
     "execution_count": 2,
     "metadata": {},
     "output_type": "execute_result"
    }
   ],
   "source": [
    "device = torch.device(\"cuda\" if torch.cuda.is_available() else \"cpu\")\n",
    "device"
   ]
  },
  {
   "cell_type": "markdown",
   "metadata": {},
   "source": [
    "## **Define EWC-related class and additional functions**"
   ]
  },
  {
   "cell_type": "code",
   "execution_count": 3,
   "metadata": {},
   "outputs": [],
   "source": [
    "class EWC:\n",
    "    \"\"\"\n",
    "    Class for performing Elastic Weight Consolidation\n",
    "    Reference link:\n",
    "        https://discuss.pytorch.org/t/implementation-of-elastic-weight-consolidation-fisher-information-matrix/9309/3 \n",
    "    \"\"\"\n",
    "\n",
    "    def __init__(self, model_anchor):\n",
    "        self._model_anchor = model_anchor\n",
    "        self._params_anchor = {n: p for n, p in model_anchor.named_parameters()}\n",
    "        self._fishers, self._mean_fishers = None, None\n",
    "\n",
    "\n",
    "    def _calc_fisher(self, likelihood, nsample=1):\n",
    "        # TODO: Process unused params case\n",
    "        grads = autograd.grad(likelihood, self._model_anchor.parameters())\n",
    "        _fishers = [(g**2)/nsample for g in grads]\n",
    "\n",
    "        param_names = [name for name, _ in self._model_anchor.named_parameters()]\n",
    "        fs_dict = {n: f for n, f in zip(param_names, _fishers)}\n",
    "\n",
    "        return fs_dict\n",
    "    \n",
    "\n",
    "    def set_fisher(self, likelihood, nsample=1):\n",
    "        self._fishers = self._calc_fisher(likelihood, nsample=nsample)\n",
    "\n",
    "\n",
    "    def get_fisher(self): return self._fishers\n",
    "\n",
    "    \n",
    "    def calc_ewc(self, model, weight=5e8, batch_size=32):\n",
    "        params = {n: p for n, p in model.named_parameters()}\n",
    "\n",
    "        ewc = 0\n",
    "        for name in self._fishers:\n",
    "            _ewc = self._fishers[name]*(params[name] - self._params_anchor[name])**2\n",
    "            ewc += _ewc.sum()\n",
    "        ewc /= batch_size\n",
    "        return weight*ewc\n",
    "\n",
    "\n",
    "def loss_adapt(l_adv, ewc, model, batch_size=32, weight=5e8):\n",
    "    l_ewc = ewc.calc_ewc(model, weight=weight, batch_size=batch_size)\n",
    "    return l_adv + l_ewc, l_ewc\n",
    "\n",
    "\n",
    "def make_image_plot(file_path, generator, examples=25, latent_size=512, dim=(5,5), figsize=(10,10)):\n",
    "    noise= torch.randn(examples, latent_size).to(device)\n",
    "    with torch.no_grad():\n",
    "        generated_images = generator(noise).detach().cpu()\n",
    "    plt.figure(figsize=figsize)\n",
    "    plt.subplots_adjust(left=0.1, right=0.9, top=0.9, bottom=0.1)\n",
    "\n",
    "\n",
    "    for i in range(generated_images.shape[0]):\n",
    "        plt.subplot(5, 5, i + 1)\n",
    "        image = generated_images[i].permute(1,2,0)\n",
    "        plt.imshow(image,interpolation='nearest',cmap='gray_r')\n",
    "        plt.axis('off')\n",
    "\n",
    "    plt.tight_layout()\n",
    "    plt.savefig(file_path)\n",
    "    plt.close('all')\n",
    "\n",
    "\n",
    "def make_train_summary_plot(histories, colors, labels):\n",
    "    plt.figure(figsize=(10, 5))\n",
    "    plt.plot(range(1, len(histories[0]) + 1), histories[0], color=colors[0], label=labels[0])\n",
    "    plt.plot(range(1, len(histories[1]) + 1), histories[1], color=colors[1], label=labels[1])\n",
    "    plt.title('Generator Loss During Adaptation')\n",
    "    plt.xlabel('Epochs')\n",
    "    plt.ylabel('Loss')\n",
    "    plt.legend()\n",
    "    plt.show()\n",
    "    \n",
    "\n",
    "\n",
    "def generate_folder(generator, folderpath, examples=25, latent_size=512):\n",
    "    noise= torch.randn(examples, latent_size).to(device)\n",
    "    with torch.no_grad():\n",
    "        generated_images = generator(noise).detach().cpu()\n",
    "\n",
    "    for i in range(generated_images.shape[0]):\n",
    "        file_name = f\"{i}.jpg\"\n",
    "        image = generated_images[i].permute(1,2,0)\n",
    "        plt.imsave(os.path.join(folderpath, file_name), image.numpy())\n",
    "\n",
    "\n",
    "def param_diff(model0, model1):\n",
    "    params0 = {n: p for n, p in model0.named_parameters()}\n",
    "    params1 = {n: p for n, p in model1.named_parameters()}\n",
    "\n",
    "    param_diffs = []\n",
    "    for name in params0:\n",
    "        dparam = ((params0[name] - params1[name])**2).mean().detach().cpu()\n",
    "        param_diffs.append(dparam**2)\n",
    "\n",
    "    return param_diffs"
   ]
  },
  {
   "cell_type": "markdown",
   "metadata": {},
   "source": [
    "## **Model configuration**"
   ]
  },
  {
   "cell_type": "code",
   "execution_count": 4,
   "metadata": {},
   "outputs": [
    {
     "name": "stderr",
     "output_type": "stream",
     "text": [
      "C:\\Users\\Admin\\AppData\\Local\\Temp\\ipykernel_17932\\1345328573.py:2: FutureWarning: You are using `torch.load` with `weights_only=False` (the current default value), which uses the default pickle module implicitly. It is possible to construct malicious pickle data which will execute arbitrary code during unpickling (See https://github.com/pytorch/pytorch/blob/main/SECURITY.md#untrusted-models for more details). In a future release, the default value for `weights_only` will be flipped to `True`. This limits the functions that could be executed during unpickling. Arbitrary objects will no longer be allowed to be loaded via this mode unless they are explicitly allowlisted by the user via `torch.serialization.add_safe_globals`. We recommend you start setting `weights_only=True` for any use case where you don't have full control of the loaded file. Please open an issue on GitHub for any issues related to this experimental feature.\n",
      "  gen_model.load_state_dict(torch.load('models/epoch140_generator.pth'))\n",
      "C:\\Users\\Admin\\AppData\\Local\\Temp\\ipykernel_17932\\1345328573.py:6: FutureWarning: You are using `torch.load` with `weights_only=False` (the current default value), which uses the default pickle module implicitly. It is possible to construct malicious pickle data which will execute arbitrary code during unpickling (See https://github.com/pytorch/pytorch/blob/main/SECURITY.md#untrusted-models for more details). In a future release, the default value for `weights_only` will be flipped to `True`. This limits the functions that could be executed during unpickling. Arbitrary objects will no longer be allowed to be loaded via this mode unless they are explicitly allowlisted by the user via `torch.serialization.add_safe_globals`. We recommend you start setting `weights_only=True` for any use case where you don't have full control of the loaded file. Please open an issue on GitHub for any issues related to this experimental feature.\n",
      "  dis_model.load_state_dict(torch.load('models/epoch140_discriminator.pth'))\n"
     ]
    },
    {
     "data": {
      "text/plain": [
       "Discriminator(\n",
       "  (main): Sequential(\n",
       "    (0): Conv2d(3, 32, kernel_size=(4, 4), stride=(2, 2), padding=(1, 1), bias=False)\n",
       "    (1): BatchNorm2d(32, eps=1e-05, momentum=0.1, affine=True, track_running_stats=True)\n",
       "    (2): LeakyReLU(negative_slope=0.01)\n",
       "    (3): Conv2d(32, 64, kernel_size=(4, 4), stride=(2, 2), padding=(1, 1), bias=False)\n",
       "    (4): BatchNorm2d(64, eps=1e-05, momentum=0.1, affine=True, track_running_stats=True)\n",
       "    (5): LeakyReLU(negative_slope=0.01)\n",
       "    (6): Conv2d(64, 128, kernel_size=(4, 4), stride=(2, 2), padding=(1, 1), bias=False)\n",
       "    (7): BatchNorm2d(128, eps=1e-05, momentum=0.1, affine=True, track_running_stats=True)\n",
       "    (8): LeakyReLU(negative_slope=0.01)\n",
       "    (9): Conv2d(128, 256, kernel_size=(4, 4), stride=(2, 2), padding=(1, 1), bias=False)\n",
       "    (10): BatchNorm2d(256, eps=1e-05, momentum=0.1, affine=True, track_running_stats=True)\n",
       "    (11): LeakyReLU(negative_slope=0.01)\n",
       "    (12): Conv2d(256, 512, kernel_size=(4, 4), stride=(2, 2), padding=(1, 1), bias=False)\n",
       "    (13): BatchNorm2d(512, eps=1e-05, momentum=0.1, affine=True, track_running_stats=True)\n",
       "    (14): LeakyReLU(negative_slope=0.01)\n",
       "    (15): Conv2d(512, 768, kernel_size=(4, 4), stride=(2, 2), padding=(1, 1), bias=False)\n",
       "    (16): BatchNorm2d(768, eps=1e-05, momentum=0.1, affine=True, track_running_stats=True)\n",
       "    (17): LeakyReLU(negative_slope=0.01)\n",
       "    (18): Flatten(start_dim=1, end_dim=-1)\n",
       "    (19): Linear(in_features=3072, out_features=1, bias=True)\n",
       "    (20): Sigmoid()\n",
       "  )\n",
       ")"
      ]
     },
     "execution_count": 4,
     "metadata": {},
     "output_type": "execute_result"
    }
   ],
   "source": [
    "gen_model = Generator()\n",
    "gen_model.load_state_dict(torch.load('models/epoch140_generator.pth'))\n",
    "gen_model.to(device)\n",
    "\n",
    "dis_model = Discriminator()\n",
    "dis_model.load_state_dict(torch.load('models/epoch140_discriminator.pth'))\n",
    "dis_model.to(device)\n",
    "\n",
    "# optimizer_g = optim.Adam(gen_model.parameters(), lr=0.0004, betas=(0.5, 0.999))\n",
    "# optimizer_d = optim.Adam(dis_model.parameters(), lr=0.0001, betas=(0.5, 0.999))"
   ]
  },
  {
   "cell_type": "markdown",
   "metadata": {},
   "source": [
    "## **Set hyperparameters**"
   ]
  },
  {
   "cell_type": "code",
   "execution_count": 5,
   "metadata": {},
   "outputs": [],
   "source": [
    "batch_size = 16\n",
    "latent_size = 512\n",
    "criterion = nn.BCELoss()"
   ]
  },
  {
   "cell_type": "markdown",
   "metadata": {},
   "source": [
    "## **Adaptation test**"
   ]
  },
  {
   "cell_type": "markdown",
   "metadata": {},
   "source": [
    "### **Prepare dataloader**"
   ]
  },
  {
   "cell_type": "code",
   "execution_count": 6,
   "metadata": {},
   "outputs": [
    {
     "name": "stdout",
     "output_type": "stream",
     "text": [
      "4\n"
     ]
    }
   ],
   "source": [
    "transform = transforms.Compose([\n",
    "    transforms.Resize((128, 128)),  \n",
    "    transforms.ToTensor(),          \n",
    "    #transforms.Normalize(mean=0.5, std=0.5)  \n",
    "])\n",
    "\n",
    "imgpath = \"data/adapt_celebA/\"\n",
    "dataset = ImageFolder(root=imgpath, transform=transform)\n",
    "dataloader = DataLoader(dataset, batch_size=batch_size, shuffle=True, num_workers=1, drop_last= True)\n",
    "\n",
    "print(len(dataloader))"
   ]
  },
  {
   "cell_type": "markdown",
   "metadata": {},
   "source": [
    "### **Compute Fisher information (DO ONLY ONCE BEFORE ADAPTATION)**"
   ]
  },
  {
   "cell_type": "code",
   "execution_count": 7,
   "metadata": {},
   "outputs": [
    {
     "name": "stdout",
     "output_type": "stream",
     "text": [
      ">>> likelihood tensor(11.7974, device='cuda:0', grad_fn=<BinaryCrossEntropyBackward0>)\n",
      ">>> l_adv tensor(11.7974, device='cuda:0', grad_fn=<BinaryCrossEntropyBackward0>)\n",
      ">>> l_ewc tensor(0., device='cuda:0', grad_fn=<MulBackward0>)\n",
      ">>> l_adapt tensor(11.7974, device='cuda:0', grad_fn=<AddBackward0>)\n"
     ]
    },
    {
     "data": {
      "image/png": "[encoded data removed]",
      "text/plain": [
       "<Figure size 640x480 with 1 Axes>"
      ]
     },
     "metadata": {},
     "output_type": "display_data"
    }
   ],
   "source": [
    "ewc = EWC(gen_model)\n",
    "\n",
    "# Generate sample input and output\n",
    "noise = torch.randn(300, latent_size).to(device)\n",
    "output_d = dis_model(gen_model(noise)).view(-1)\n",
    "real_label = torch.full((300, ), 0.99, dtype=torch.float).to(device)\n",
    "\n",
    "# Error between Discriminator output and actual label\n",
    "likelihood = criterion(output_d, real_label)\n",
    "print(\">>> likelihood\", likelihood)\n",
    "\n",
    "# Compute Fisher information for each parameter\n",
    "ewc.set_fisher(likelihood, nsample=300)\n",
    "fishers = ewc.get_fisher()\n",
    "\n",
    "# Plot mean Fisher information\n",
    "fisher_vals = [fishers[n].mean().detach().cpu() for n in fishers]\n",
    "plt.bar(np.arange(len(fisher_vals)) + 1, fisher_vals)\n",
    "plt.xticks(np.arange(len(fisher_vals)) + 1)\n",
    "plt.xlabel(\"Parameter\")\n",
    "plt.ylabel(\"Mean Fisher information\")\n",
    "\n",
    "# Example value for adversarial loss\n",
    "# NOTE: Will need to change formula in actual training\n",
    "l_adv = criterion(output_d, real_label)\n",
    "\n",
    "generator_new = deepcopy(gen_model)\n",
    "l_adapt, l_ewc = loss_adapt(l_adv, ewc, generator_new, batch_size=300)\n",
    "\n",
    "print(\">>> l_adv\", l_adv)\n",
    "print(\">>> l_ewc\", l_ewc)\n",
    "print(\">>> l_adapt\", l_adapt)"
   ]
  },
  {
   "cell_type": "markdown",
   "metadata": {},
   "source": [
    "### **Adapt loop**"
   ]
  },
  {
   "cell_type": "code",
   "execution_count": 8,
   "metadata": {},
   "outputs": [
    {
     "name": "stderr",
     "output_type": "stream",
     "text": [
      "C:\\Users\\Admin\\AppData\\Local\\Temp\\ipykernel_17932\\1541793534.py:10: FutureWarning: You are using `torch.load` with `weights_only=False` (the current default value), which uses the default pickle module implicitly. It is possible to construct malicious pickle data which will execute arbitrary code during unpickling (See https://github.com/pytorch/pytorch/blob/main/SECURITY.md#untrusted-models for more details). In a future release, the default value for `weights_only` will be flipped to `True`. This limits the functions that could be executed during unpickling. Arbitrary objects will no longer be allowed to be loaded via this mode unless they are explicitly allowlisted by the user via `torch.serialization.add_safe_globals`. We recommend you start setting `weights_only=True` for any use case where you don't have full control of the loaded file. Please open an issue on GitHub for any issues related to this experimental feature.\n",
      "  adapt_generator.load_state_dict(torch.load('models/epoch140_generator.pth'))\n"
     ]
    }
   ],
   "source": [
    "g_history = []\n",
    "ewc_history = []\n",
    "real_lb = 0.99\n",
    "fake_lb = 0\n",
    "num_epochs = 30\n",
    "regWeight = 5e8\n",
    "\n",
    "# Model to adapt\n",
    "adapt_generator = Generator()\n",
    "adapt_generator.load_state_dict(torch.load('models/epoch140_generator.pth'))\n",
    "adapt_generator.to(device)\n",
    "optimizer_g_adapt = optim.Adam(adapt_generator.parameters(), lr=0.0009, betas=(0.5, 0.999))"
   ]
  },
  {
   "cell_type": "code",
   "execution_count": 9,
   "metadata": {},
   "outputs": [
    {
     "name": "stdout",
     "output_type": "stream",
     "text": [
      "Loss_G: 131.9069, EWC: 122.27810668945312\n"
     ]
    },
    {
     "data": {
      "image/png": "[encoded data removed]",
      "text/plain": [
       "<Figure size 1000x500 with 1 Axes>"
      ]
     },
     "metadata": {},
     "output_type": "display_data"
    }
   ],
   "source": [
    "for epoch in range(num_epochs):\n",
    "    # Visualize the loss \n",
    "    print('Epoch : ',f'[{epoch}/{num_epochs}] ')\n",
    "    make_train_summary_plot(\n",
    "        [g_history, ewc_history], colors=[\"tab:blue\", \"tab:orange\"], labels=[\"L_adv + L_ewc\", \"l_ewc\"]\n",
    "    )\n",
    "\n",
    "    avg_loss_d = 0 \n",
    "    avg_loss_g = 0\n",
    "    avg_l_ewc = 0\n",
    "    for i, data in enumerate(tqdm(dataloader)):\n",
    "        \n",
    "        real_data = data[0].to(device)\n",
    "        label = torch.full((batch_size, ), real_lb, dtype=torch.float).to(device)\n",
    "\n",
    "        #-- Train Generator\n",
    "        \n",
    "        # Reset gradients\n",
    "        adapt_generator.zero_grad()\n",
    "\n",
    "        # Generate fake data + classification of Discriminator\n",
    "        noise = torch.randn(batch_size, latent_size).to(device)\n",
    "        fake_data = adapt_generator(noise)\n",
    "        output = dis_model(fake_data).view(-1)\n",
    "\n",
    "        label.fill_(real_lb)\n",
    "\n",
    "        loss_G_adv = criterion(output, label)\n",
    "        \n",
    "        # Compute L_adapt = L_adv + EWC\n",
    "        loss_G, l_ewc = loss_adapt(loss_G_adv, ewc, adapt_generator, batch_size=batch_size, weight=regWeight)\n",
    "\n",
    "        avg_loss_g += loss_G\n",
    "        avg_l_ewc += l_ewc\n",
    "\n",
    "        # Optimize step\n",
    "        loss_G.backward()\n",
    "        optimizer_g_adapt.step()\n",
    "\n",
    "    avg_loss_g /= len(dataloader)\n",
    "    avg_l_ewc /= len(dataloader)\n",
    "    g_history.append(avg_loss_g.detach().cpu().numpy())\n",
    "    ewc_history.append(avg_l_ewc.detach().cpu().numpy())\n",
    "\n",
    "    if epoch != num_epochs:\n",
    "        clear_output()\n",
    "\n",
    "    print(f'Loss_G: {avg_loss_g.item():.4f}, EWC: {avg_l_ewc.item()}')\n",
    "    \n",
    "    # Checkpoint\n",
    "    # if (epoch % 5 == 0):\n",
    "    #     plt_save_path = f\"plts/gan_train_{epoch}.png\"\n",
    "    #     make_image_plot(plt_save_path, adapt_generator)\n",
    "    #     torch.save(adapt_generator.state_dict(), 'models/generator_adapt_epoch%d.pth' %epoch)\n",
    "        \n",
    "\n",
    "make_train_summary_plot(\n",
    "    [g_history, ewc_history], colors=[\"tab:blue\", \"tab:orange\"], labels=[\"L_adv + L_ewc\", \"l_ewc\"]\n",
    ")"
   ]
  },
  {
   "cell_type": "markdown",
   "metadata": {},
   "source": [
    "## **Calculate & plot parameter difference**"
   ]
  },
  {
   "cell_type": "code",
   "execution_count": 10,
   "metadata": {},
   "outputs": [
    {
     "data": {
      "text/plain": [
       "Text(0, 0.5, 'Mean Squared Difference')"
      ]
     },
     "execution_count": 10,
     "metadata": {},
     "output_type": "execute_result"
    },
    {
     "data": {
      "image/png": "[encoded data removed]",
      "text/plain": [
       "<Figure size 640x480 with 1 Axes>"
      ]
     },
     "metadata": {},
     "output_type": "display_data"
    }
   ],
   "source": [
    "dparams = param_diff(adapt_generator, gen_model)\n",
    "plt.bar(np.arange(len(dparams)) + 1, dparams)\n",
    "plt.xticks(np.arange(len(dparams)) + 1)\n",
    "plt.xlabel(\"Parameter\")\n",
    "plt.ylabel(\"Mean Squared Difference\")"
   ]
  },
  {
   "cell_type": "code",
   "execution_count": 11,
   "metadata": {},
   "outputs": [],
   "source": [
    "generate_folder(adapt_generator, folderpath=\"generated/adapted\", examples=200)\n",
    "generate_folder(gen_model, folderpath=\"generated/preadapt\", examples=200)"
   ]
  }
 ],
 "metadata": {
  "kernelspec": {
   "display_name": "thesis",
   "language": "python",
   "name": "python3"
  },
  "language_info": {
   "codemirror_mode": {
    "name": "ipython",
    "version": 3
   },
   "file_extension": ".py",
   "mimetype": "text/x-python",
   "name": "python",
   "nbconvert_exporter": "python",
   "pygments_lexer": "ipython3",
   "version": "3.12.4"
  }
 },
 "nbformat": 4,
 "nbformat_minor": 2
}
